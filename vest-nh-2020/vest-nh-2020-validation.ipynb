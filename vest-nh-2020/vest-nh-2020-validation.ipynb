{
 "cells": [
  {
   "cell_type": "code",
   "execution_count": 1,
   "metadata": {},
   "outputs": [],
   "source": [
    "import pandas as pd\n",
    "import sys\n",
    "import numpy as np\n",
    "import geopandas as gp\n",
    "import matplotlib.pyplot as plt"
   ]
  },
  {
   "cell_type": "markdown",
   "metadata": {},
   "source": [
    "# Precinct Shapefile"
   ]
  },
  {
   "cell_type": "markdown",
   "metadata": {},
   "source": [
    "## VEST's Documentation File"
   ]
  },
  {
   "cell_type": "markdown",
   "metadata": {},
   "source": [
    "Election results from New Hampshire Secretary of State (https://sos.nh.gov/elections/elections/election-results/2020/general-election/). Precinct shapefile from the U.S. Census Bureau's 2020 Redistricting Data Program final release.\n",
    "\n",
    "The Census VTD shapefile includes wards for the Town of Berlin and the Town of Derry that are only used for municipal elections. These were merged to match the statewide election returns. \n",
    "\n",
    "- G20PREDBID - Joseph R. Biden (Democratic Party)\n",
    "- G20PRERTRU - Donald J. Trump (Republican Party)\n",
    "- G20PRELJOR - Jo Jorgensen (Libertarian Party)\n",
    "\n",
    "\n",
    "- G20USSDSHA - Jeanne Shaheen (Democratic Party)\n",
    "- G20USSRMES - Corky Messner (Republican Party)\n",
    "- G20USSLODO - Justin O'Donnell (Libertarian Party)\n",
    "- G20USSOWRI - Write-in Votes\n",
    "\n",
    "\n",
    "- G20GOVDFEL - Dan Feltes (Democratic Party)\n",
    "- G20GOVRSUN - Chris Sununu (Republican Party)\n",
    "- G20GOVLPER - Darryl W. Perry (Libertarian Party)\n",
    "- G20GOVOWRI - Write-in Votes\n"
   ]
  },
  {
   "cell_type": "markdown",
   "metadata": {},
   "source": [
    "## Load VEST's Final File"
   ]
  },
  {
   "cell_type": "code",
   "execution_count": 97,
   "metadata": {},
   "outputs": [],
   "source": [
    "vest_shp = gp.read_file(\"./raw-from-source/VEST/nh_2020/nh_2020.shp\")"
   ]
  },
  {
   "cell_type": "code",
   "execution_count": 3,
   "metadata": {},
   "outputs": [
    {
     "data": {
      "text/plain": [
       "(321, 18)"
      ]
     },
     "execution_count": 3,
     "metadata": {},
     "output_type": "execute_result"
    }
   ],
   "source": [
    "vest_shp.shape"
   ]
  },
  {
   "cell_type": "code",
   "execution_count": 4,
   "metadata": {},
   "outputs": [
    {
     "data": {
      "text/html": [
       "<div>\n",
       "<style scoped>\n",
       "    .dataframe tbody tr th:only-of-type {\n",
       "        vertical-align: middle;\n",
       "    }\n",
       "\n",
       "    .dataframe tbody tr th {\n",
       "        vertical-align: top;\n",
       "    }\n",
       "\n",
       "    .dataframe thead th {\n",
       "        text-align: right;\n",
       "    }\n",
       "</style>\n",
       "<table border=\"1\" class=\"dataframe\">\n",
       "  <thead>\n",
       "    <tr style=\"text-align: right;\">\n",
       "      <th></th>\n",
       "      <th>STATEFP20</th>\n",
       "      <th>COUNTYFP20</th>\n",
       "      <th>VTDST20</th>\n",
       "      <th>GEOID20</th>\n",
       "      <th>NAME20</th>\n",
       "      <th>NAMELSAD20</th>\n",
       "      <th>G20PREDBID</th>\n",
       "      <th>G20PRERTRU</th>\n",
       "      <th>G20PRELJOR</th>\n",
       "      <th>G20USSDSHA</th>\n",
       "      <th>G20USSRMES</th>\n",
       "      <th>G20USSLODO</th>\n",
       "      <th>G20USSOWRI</th>\n",
       "      <th>G20GOVDFEL</th>\n",
       "      <th>G20GOVRSUN</th>\n",
       "      <th>G20GOVLPER</th>\n",
       "      <th>G20GOVOWRI</th>\n",
       "      <th>geometry</th>\n",
       "    </tr>\n",
       "  </thead>\n",
       "  <tbody>\n",
       "    <tr>\n",
       "      <th>0</th>\n",
       "      <td>33</td>\n",
       "      <td>019</td>\n",
       "      <td>ACWO01</td>\n",
       "      <td>33019ACWO01</td>\n",
       "      <td>TOWN OF ACWORTH</td>\n",
       "      <td>TOWN OF ACWORTH Voting District</td>\n",
       "      <td>293</td>\n",
       "      <td>269</td>\n",
       "      <td>7</td>\n",
       "      <td>311</td>\n",
       "      <td>227</td>\n",
       "      <td>11</td>\n",
       "      <td>0</td>\n",
       "      <td>229</td>\n",
       "      <td>325</td>\n",
       "      <td>8</td>\n",
       "      <td>0</td>\n",
       "      <td>POLYGON ((-72.35628 43.25784, -72.35513 43.257...</td>\n",
       "    </tr>\n",
       "  </tbody>\n",
       "</table>\n",
       "</div>"
      ],
      "text/plain": [
       "  STATEFP20 COUNTYFP20 VTDST20      GEOID20           NAME20  \\\n",
       "0        33        019  ACWO01  33019ACWO01  TOWN OF ACWORTH   \n",
       "\n",
       "                        NAMELSAD20  G20PREDBID  G20PRERTRU  G20PRELJOR  \\\n",
       "0  TOWN OF ACWORTH Voting District         293         269           7   \n",
       "\n",
       "   G20USSDSHA  G20USSRMES  G20USSLODO  G20USSOWRI  G20GOVDFEL  G20GOVRSUN  \\\n",
       "0         311         227          11           0         229         325   \n",
       "\n",
       "   G20GOVLPER  G20GOVOWRI                                           geometry  \n",
       "0           8           0  POLYGON ((-72.35628 43.25784, -72.35513 43.257...  "
      ]
     },
     "execution_count": 4,
     "metadata": {},
     "output_type": "execute_result"
    }
   ],
   "source": [
    "vest_shp.head(1)"
   ]
  },
  {
   "cell_type": "code",
   "execution_count": 5,
   "metadata": {},
   "outputs": [
    {
     "data": {
      "text/plain": [
       "<AxesSubplot:>"
      ]
     },
     "execution_count": 5,
     "metadata": {},
     "output_type": "execute_result"
    },
    {
     "data": {
      "image/png": "[encoded data removed]",
      "text/plain": [
       "<Figure size 432x288 with 1 Axes>"
      ]
     },
     "metadata": {
      "needs_background": "light"
     },
     "output_type": "display_data"
    }
   ],
   "source": [
    "vest_shp.boundary.plot()"
   ]
  },
  {
   "cell_type": "markdown",
   "metadata": {},
   "source": [
    "# Loading, Combining Election Results"
   ]
  },
  {
   "cell_type": "markdown",
   "metadata": {},
   "source": [
    "## Load County Fips File"
   ]
  },
  {
   "cell_type": "code",
   "execution_count": 6,
   "metadata": {},
   "outputs": [],
   "source": [
    "#Load in the nationwide FIPS file\n",
    "fips_file = pd.read_csv(\"./raw-from-source/FIPS/US_FIPS_Codes.csv\")\n",
    "fips_file = fips_file[fips_file[\"State\"]==\"New Hampshire\"]\n",
    "fips_file[\"FIPS County\"]=fips_file[\"FIPS County\"].astype(str)\n",
    "\n",
    "#Make the FIPS three digits\n",
    "fips_file[\"FIPS County\"]=fips_file[\"FIPS County\"].str.zfill(3)\n",
    "\n",
    "#Create the dictionary\n",
    "fips_dict = dict(zip(fips_file[\"County Name\"],fips_file[\"FIPS County\"]))"
   ]
  },
  {
   "cell_type": "markdown",
   "metadata": {},
   "source": [
    "## Presidential Results"
   ]
  },
  {
   "cell_type": "code",
   "execution_count": 41,
   "metadata": {},
   "outputs": [
    {
     "name": "stderr",
     "output_type": "stream",
     "text": [
      "<ipython-input-41-ca147f46fd9f>:18: FutureWarning: The default value of regex will change from True to False in a future version. In addition, single character regular expressions will*not* be treated as literal strings when regex=True.\n",
      "  pres_results['Precinct'] = pres_results['Precinct'].str.replace('*','')\n"
     ]
    }
   ],
   "source": [
    "pres_results = pd.ExcelFile('./raw-from-source/SOS/president-2020_edited.xls')\n",
    "\n",
    "excel_tabs = {'belkpres':'Belknap','carrpres':'Carroll','chespres':'Cheshire',\n",
    "              'coospres':'Coos','grafpres':'Grafton','hillspres':'Hillsborough',\n",
    "              'merrpres':'Merrimack','rockpres':'Rockingham','strapres':'Strafford','sullpres':'Sullivan'}\n",
    "df_list = []\n",
    "for tab in excel_tabs: \n",
    "    df = pd.read_excel(pres_results, tab)\n",
    "    df['County'] = excel_tabs[tab]\n",
    "    df.columns = [x for x in range(len(df.columns))]\n",
    "    df_list.append(df)\n",
    "pres_results = pd.concat(df_list, axis = 0, ignore_index = True)\n",
    "pres_results.columns = ['Precinct','G20PRERTRU','G20PREDBID','G20PRELJOR','d1','d2','County']\n",
    "pres_results.drop(columns = ['d1','d2'], inplace = True)\n",
    "pres_results = pres_results[(pres_results['Precinct'] != '') & (pres_results['Precinct'] != 'TOTALS') & \n",
    "                            (pres_results['G20PREDBID'].notnull()) & (pres_results['G20PRERTRU'] != 'Trump and Pence, r')]\n",
    "pres_results.replace('-', np.nan, inplace = True)\n",
    "pres_results['Precinct'] = pres_results['Precinct'].str.replace('*','')"
   ]
  },
  {
   "cell_type": "code",
   "execution_count": 42,
   "metadata": {},
   "outputs": [
    {
     "data": {
      "text/html": [
       "<div>\n",
       "<style scoped>\n",
       "    .dataframe tbody tr th:only-of-type {\n",
       "        vertical-align: middle;\n",
       "    }\n",
       "\n",
       "    .dataframe tbody tr th {\n",
       "        vertical-align: top;\n",
       "    }\n",
       "\n",
       "    .dataframe thead th {\n",
       "        text-align: right;\n",
       "    }\n",
       "</style>\n",
       "<table border=\"1\" class=\"dataframe\">\n",
       "  <thead>\n",
       "    <tr style=\"text-align: right;\">\n",
       "      <th></th>\n",
       "      <th>Precinct</th>\n",
       "      <th>G20PRERTRU</th>\n",
       "      <th>G20PREDBID</th>\n",
       "      <th>G20PRELJOR</th>\n",
       "      <th>County</th>\n",
       "    </tr>\n",
       "  </thead>\n",
       "  <tbody>\n",
       "    <tr>\n",
       "      <th>82</th>\n",
       "      <td>Cambridge</td>\n",
       "      <td>4</td>\n",
       "      <td>3</td>\n",
       "      <td>0</td>\n",
       "      <td>Coos</td>\n",
       "    </tr>\n",
       "    <tr>\n",
       "      <th>332</th>\n",
       "      <td>Rochester Ward 3</td>\n",
       "      <td>1549</td>\n",
       "      <td>1420</td>\n",
       "      <td>68</td>\n",
       "      <td>Strafford</td>\n",
       "    </tr>\n",
       "    <tr>\n",
       "      <th>262</th>\n",
       "      <td>Warner</td>\n",
       "      <td>844</td>\n",
       "      <td>1050</td>\n",
       "      <td>34</td>\n",
       "      <td>Merrimack</td>\n",
       "    </tr>\n",
       "    <tr>\n",
       "      <th>79</th>\n",
       "      <td>Bean's Grant</td>\n",
       "      <td>0</td>\n",
       "      <td>0</td>\n",
       "      <td>0</td>\n",
       "      <td>Coos</td>\n",
       "    </tr>\n",
       "    <tr>\n",
       "      <th>340</th>\n",
       "      <td>Somersworth Ward 4</td>\n",
       "      <td>488</td>\n",
       "      <td>787</td>\n",
       "      <td>22</td>\n",
       "      <td>Strafford</td>\n",
       "    </tr>\n",
       "    <tr>\n",
       "      <th>139</th>\n",
       "      <td>Grafton</td>\n",
       "      <td>423</td>\n",
       "      <td>345</td>\n",
       "      <td>16</td>\n",
       "      <td>Grafton</td>\n",
       "    </tr>\n",
       "    <tr>\n",
       "      <th>354</th>\n",
       "      <td>Langdon</td>\n",
       "      <td>199</td>\n",
       "      <td>206</td>\n",
       "      <td>7</td>\n",
       "      <td>Sullivan</td>\n",
       "    </tr>\n",
       "    <tr>\n",
       "      <th>189</th>\n",
       "      <td>Manchester Ward 3</td>\n",
       "      <td>1174</td>\n",
       "      <td>2228</td>\n",
       "      <td>74</td>\n",
       "      <td>Hillsborough</td>\n",
       "    </tr>\n",
       "    <tr>\n",
       "      <th>191</th>\n",
       "      <td>Manchester Ward 5</td>\n",
       "      <td>1121</td>\n",
       "      <td>1670</td>\n",
       "      <td>74</td>\n",
       "      <td>Hillsborough</td>\n",
       "    </tr>\n",
       "    <tr>\n",
       "      <th>234</th>\n",
       "      <td>Concord Ward 1</td>\n",
       "      <td>979</td>\n",
       "      <td>1545</td>\n",
       "      <td>52</td>\n",
       "      <td>Merrimack</td>\n",
       "    </tr>\n",
       "  </tbody>\n",
       "</table>\n",
       "</div>"
      ],
      "text/plain": [
       "               Precinct G20PRERTRU G20PREDBID G20PRELJOR        County\n",
       "82            Cambridge          4          3          0          Coos\n",
       "332    Rochester Ward 3       1549       1420         68     Strafford\n",
       "262              Warner        844       1050         34     Merrimack\n",
       "79         Bean's Grant          0          0          0          Coos\n",
       "340  Somersworth Ward 4        488        787         22     Strafford\n",
       "139             Grafton        423        345         16       Grafton\n",
       "354             Langdon        199        206          7      Sullivan\n",
       "189   Manchester Ward 3       1174       2228         74  Hillsborough\n",
       "191   Manchester Ward 5       1121       1670         74  Hillsborough\n",
       "234     Concord Ward 1         979       1545         52     Merrimack"
      ]
     },
     "execution_count": 42,
     "metadata": {},
     "output_type": "execute_result"
    }
   ],
   "source": [
    "pres_results.sample(10)"
   ]
  },
  {
   "cell_type": "markdown",
   "metadata": {},
   "source": [
    "## U.S. Senate Results"
   ]
  },
  {
   "cell_type": "code",
   "execution_count": 9,
   "metadata": {},
   "outputs": [
    {
     "name": "stderr",
     "output_type": "stream",
     "text": [
      "<ipython-input-9-78aabe00062c>:22: FutureWarning: The default value of regex will change from True to False in a future version. In addition, single character regular expressions will*not* be treated as literal strings when regex=True.\n",
      "  uss_results['Precinct'] = uss_results['Precinct'].str.replace('*','')\n"
     ]
    }
   ],
   "source": [
    "uss_results = pd.ExcelFile('./raw-from-source/SOS/us-senator-2020_edited.xls')\n",
    "\n",
    "excel_tabs = {'belknap gov':'Belknap','carroll gov':'Carroll','cheshire gov':'Cheshire',\n",
    "              'coos gov':'Coos','grafton gov':'Grafton','hillsborough gov':'Hillsborough',\n",
    "              'merrimack gov':'Merrimack','rockingham gov':'Rockingham','strafford gov':'Strafford','sullivan gov':'Sullivan'}\n",
    "df_list = []\n",
    "for tab in excel_tabs: \n",
    "    df = pd.read_excel(uss_results, tab)\n",
    "    df['County'] = excel_tabs[tab]\n",
    "    df.columns = [x for x in range(len(df.columns))]\n",
    "    df_list.append(df)\n",
    "uss_results = pd.concat(df_list, axis = 0, ignore_index = True)\n",
    "uss_results.columns = ['Precinct','G20USSRMES','G20USSDSHA','G20USSLODO','G20USSOWRI','d1','d2']\n",
    "uss_results.replace(' ', np.nan, inplace = True)\n",
    "uss_results['County'] = uss_results.d1.combine_first(uss_results.d2)\n",
    "uss_results.drop(columns = ['d1','d2'], inplace = True)\n",
    "uss_results = uss_results[(uss_results['Precinct'] != '') & (uss_results['Precinct'] != 'TOTALS') & \n",
    "                            (uss_results['G20USSRMES'] != 'United States Senator') & (uss_results['G20USSRMES'] != 'Messner, r')]\n",
    "uss_results.replace('-', np.nan, inplace = True)\n",
    "uss_results = uss_results[(uss_results['Precinct'] != '*corrections received') & \\\n",
    "                          (uss_results['Precinct'] != '*correction received') & (uss_results['Precinct'] != ' ')]\n",
    "uss_results['Precinct'] = uss_results['Precinct'].str.replace('*','')"
   ]
  },
  {
   "cell_type": "code",
   "execution_count": 10,
   "metadata": {},
   "outputs": [
    {
     "data": {
      "text/html": [
       "<div>\n",
       "<style scoped>\n",
       "    .dataframe tbody tr th:only-of-type {\n",
       "        vertical-align: middle;\n",
       "    }\n",
       "\n",
       "    .dataframe tbody tr th {\n",
       "        vertical-align: top;\n",
       "    }\n",
       "\n",
       "    .dataframe thead th {\n",
       "        text-align: right;\n",
       "    }\n",
       "</style>\n",
       "<table border=\"1\" class=\"dataframe\">\n",
       "  <thead>\n",
       "    <tr style=\"text-align: right;\">\n",
       "      <th></th>\n",
       "      <th>Precinct</th>\n",
       "      <th>G20USSRMES</th>\n",
       "      <th>G20USSDSHA</th>\n",
       "      <th>G20USSLODO</th>\n",
       "      <th>G20USSOWRI</th>\n",
       "      <th>County</th>\n",
       "    </tr>\n",
       "  </thead>\n",
       "  <tbody>\n",
       "    <tr>\n",
       "      <th>301</th>\n",
       "      <td>Portsmouth Ward 1</td>\n",
       "      <td>773.0</td>\n",
       "      <td>2108.0</td>\n",
       "      <td>83.0</td>\n",
       "      <td>0.0</td>\n",
       "      <td>Rockingham</td>\n",
       "    </tr>\n",
       "    <tr>\n",
       "      <th>297</th>\n",
       "      <td>North Hampton</td>\n",
       "      <td>1316.0</td>\n",
       "      <td>2082.0</td>\n",
       "      <td>49.0</td>\n",
       "      <td>3.0</td>\n",
       "      <td>Rockingham</td>\n",
       "    </tr>\n",
       "    <tr>\n",
       "      <th>259</th>\n",
       "      <td>New London</td>\n",
       "      <td>1039.0</td>\n",
       "      <td>2067.0</td>\n",
       "      <td>39.0</td>\n",
       "      <td>1.0</td>\n",
       "      <td>Merrimack</td>\n",
       "    </tr>\n",
       "    <tr>\n",
       "      <th>99</th>\n",
       "      <td>Green's Grant</td>\n",
       "      <td>0.0</td>\n",
       "      <td>1.0</td>\n",
       "      <td>0.0</td>\n",
       "      <td>0.0</td>\n",
       "      <td>Coos</td>\n",
       "    </tr>\n",
       "    <tr>\n",
       "      <th>118</th>\n",
       "      <td>Stratford</td>\n",
       "      <td>120.0</td>\n",
       "      <td>172.0</td>\n",
       "      <td>7.0</td>\n",
       "      <td>0.0</td>\n",
       "      <td>Coos</td>\n",
       "    </tr>\n",
       "    <tr>\n",
       "      <th>271</th>\n",
       "      <td>NaN</td>\n",
       "      <td>NaN</td>\n",
       "      <td>NaN</td>\n",
       "      <td>NaN</td>\n",
       "      <td>NaN</td>\n",
       "      <td>Rockingham</td>\n",
       "    </tr>\n",
       "    <tr>\n",
       "      <th>29</th>\n",
       "      <td>Freedom</td>\n",
       "      <td>475.0</td>\n",
       "      <td>583.0</td>\n",
       "      <td>21.0</td>\n",
       "      <td>0.0</td>\n",
       "      <td>Carroll</td>\n",
       "    </tr>\n",
       "    <tr>\n",
       "      <th>73</th>\n",
       "      <td>Winchester</td>\n",
       "      <td>815.0</td>\n",
       "      <td>1089.0</td>\n",
       "      <td>68.0</td>\n",
       "      <td>0.0</td>\n",
       "      <td>Cheshire</td>\n",
       "    </tr>\n",
       "    <tr>\n",
       "      <th>250</th>\n",
       "      <td>Epsom</td>\n",
       "      <td>1477.0</td>\n",
       "      <td>1342.0</td>\n",
       "      <td>69.0</td>\n",
       "      <td>2.0</td>\n",
       "      <td>Merrimack</td>\n",
       "    </tr>\n",
       "    <tr>\n",
       "      <th>18</th>\n",
       "      <td>NaN</td>\n",
       "      <td>NaN</td>\n",
       "      <td>NaN</td>\n",
       "      <td>NaN</td>\n",
       "      <td>NaN</td>\n",
       "      <td>Belknap</td>\n",
       "    </tr>\n",
       "  </tbody>\n",
       "</table>\n",
       "</div>"
      ],
      "text/plain": [
       "              Precinct  G20USSRMES  G20USSDSHA  G20USSLODO  G20USSOWRI  \\\n",
       "301  Portsmouth Ward 1       773.0      2108.0        83.0         0.0   \n",
       "297      North Hampton      1316.0      2082.0        49.0         3.0   \n",
       "259         New London      1039.0      2067.0        39.0         1.0   \n",
       "99       Green's Grant         0.0         1.0         0.0         0.0   \n",
       "118          Stratford       120.0       172.0         7.0         0.0   \n",
       "271                NaN         NaN         NaN         NaN         NaN   \n",
       "29             Freedom       475.0       583.0        21.0         0.0   \n",
       "73          Winchester       815.0      1089.0        68.0         0.0   \n",
       "250              Epsom      1477.0      1342.0        69.0         2.0   \n",
       "18                 NaN         NaN         NaN         NaN         NaN   \n",
       "\n",
       "         County  \n",
       "301  Rockingham  \n",
       "297  Rockingham  \n",
       "259   Merrimack  \n",
       "99         Coos  \n",
       "118        Coos  \n",
       "271  Rockingham  \n",
       "29      Carroll  \n",
       "73     Cheshire  \n",
       "250   Merrimack  \n",
       "18      Belknap  "
      ]
     },
     "execution_count": 10,
     "metadata": {},
     "output_type": "execute_result"
    }
   ],
   "source": [
    "uss_results.sample(10)"
   ]
  },
  {
   "cell_type": "code",
   "execution_count": 11,
   "metadata": {},
   "outputs": [
    {
     "data": {
      "text/html": [
       "<div>\n",
       "<style scoped>\n",
       "    .dataframe tbody tr th:only-of-type {\n",
       "        vertical-align: middle;\n",
       "    }\n",
       "\n",
       "    .dataframe tbody tr th {\n",
       "        vertical-align: top;\n",
       "    }\n",
       "\n",
       "    .dataframe thead th {\n",
       "        text-align: right;\n",
       "    }\n",
       "</style>\n",
       "<table border=\"1\" class=\"dataframe\">\n",
       "  <thead>\n",
       "    <tr style=\"text-align: right;\">\n",
       "      <th></th>\n",
       "      <th>Precinct</th>\n",
       "      <th>G20USSRMES</th>\n",
       "      <th>G20USSDSHA</th>\n",
       "      <th>G20USSLODO</th>\n",
       "      <th>G20USSOWRI</th>\n",
       "    </tr>\n",
       "    <tr>\n",
       "      <th>County</th>\n",
       "      <th></th>\n",
       "      <th></th>\n",
       "      <th></th>\n",
       "      <th></th>\n",
       "      <th></th>\n",
       "    </tr>\n",
       "  </thead>\n",
       "  <tbody>\n",
       "    <tr>\n",
       "      <th>Belknap</th>\n",
       "      <td>16</td>\n",
       "      <td>16</td>\n",
       "      <td>16</td>\n",
       "      <td>16</td>\n",
       "      <td>16</td>\n",
       "    </tr>\n",
       "    <tr>\n",
       "      <th>Carroll</th>\n",
       "      <td>19</td>\n",
       "      <td>19</td>\n",
       "      <td>19</td>\n",
       "      <td>19</td>\n",
       "      <td>19</td>\n",
       "    </tr>\n",
       "    <tr>\n",
       "      <th>Cheshire</th>\n",
       "      <td>27</td>\n",
       "      <td>27</td>\n",
       "      <td>27</td>\n",
       "      <td>27</td>\n",
       "      <td>27</td>\n",
       "    </tr>\n",
       "    <tr>\n",
       "      <th>Coos</th>\n",
       "      <td>43</td>\n",
       "      <td>27</td>\n",
       "      <td>27</td>\n",
       "      <td>27</td>\n",
       "      <td>27</td>\n",
       "    </tr>\n",
       "    <tr>\n",
       "      <th>Grafton</th>\n",
       "      <td>42</td>\n",
       "      <td>42</td>\n",
       "      <td>42</td>\n",
       "      <td>42</td>\n",
       "      <td>42</td>\n",
       "    </tr>\n",
       "    <tr>\n",
       "      <th>Hillsborough</th>\n",
       "      <td>50</td>\n",
       "      <td>50</td>\n",
       "      <td>50</td>\n",
       "      <td>50</td>\n",
       "      <td>50</td>\n",
       "    </tr>\n",
       "    <tr>\n",
       "      <th>Merrimack</th>\n",
       "      <td>38</td>\n",
       "      <td>38</td>\n",
       "      <td>38</td>\n",
       "      <td>38</td>\n",
       "      <td>38</td>\n",
       "    </tr>\n",
       "    <tr>\n",
       "      <th>Rockingham</th>\n",
       "      <td>41</td>\n",
       "      <td>41</td>\n",
       "      <td>41</td>\n",
       "      <td>41</td>\n",
       "      <td>41</td>\n",
       "    </tr>\n",
       "    <tr>\n",
       "      <th>Strafford</th>\n",
       "      <td>27</td>\n",
       "      <td>27</td>\n",
       "      <td>27</td>\n",
       "      <td>27</td>\n",
       "      <td>27</td>\n",
       "    </tr>\n",
       "    <tr>\n",
       "      <th>Sullivan</th>\n",
       "      <td>17</td>\n",
       "      <td>17</td>\n",
       "      <td>17</td>\n",
       "      <td>17</td>\n",
       "      <td>17</td>\n",
       "    </tr>\n",
       "  </tbody>\n",
       "</table>\n",
       "</div>"
      ],
      "text/plain": [
       "              Precinct  G20USSRMES  G20USSDSHA  G20USSLODO  G20USSOWRI\n",
       "County                                                                \n",
       "Belknap             16          16          16          16          16\n",
       "Carroll             19          19          19          19          19\n",
       "Cheshire            27          27          27          27          27\n",
       "Coos                43          27          27          27          27\n",
       "Grafton             42          42          42          42          42\n",
       "Hillsborough        50          50          50          50          50\n",
       "Merrimack           38          38          38          38          38\n",
       "Rockingham          41          41          41          41          41\n",
       "Strafford           27          27          27          27          27\n",
       "Sullivan            17          17          17          17          17"
      ]
     },
     "execution_count": 11,
     "metadata": {},
     "output_type": "execute_result"
    }
   ],
   "source": [
    "uss_results.groupby('County').count()"
   ]
  },
  {
   "cell_type": "markdown",
   "metadata": {},
   "source": [
    "## Governor Results"
   ]
  },
  {
   "cell_type": "code",
   "execution_count": 19,
   "metadata": {},
   "outputs": [
    {
     "name": "stderr",
     "output_type": "stream",
     "text": [
      "<ipython-input-19-be2b630a02f0>:20: FutureWarning: The default value of regex will change from True to False in a future version. In addition, single character regular expressions will*not* be treated as literal strings when regex=True.\n",
      "  gov_results['Precinct'] = gov_results['Precinct'].str.replace('*','')\n"
     ]
    }
   ],
   "source": [
    "gov_results = pd.ExcelFile('./raw-from-source/SOS/governor-2020_edited.xls')\n",
    "\n",
    "excel_tabs = {'belknap gov':'Belknap','carroll gov':'Carroll','cheshire gov':'Cheshire',\n",
    "              'coos gov':'Coos','grafton gov':'Grafton','hillsborough gov':'Hillsborough',\n",
    "              'merrimack gov':'Merrimack','rockingham gov':'Rockingham','strafford gov':'Strafford','sullivan gov':'Sullivan'}\n",
    "df_list = []\n",
    "for tab in excel_tabs: \n",
    "    df = pd.read_excel(gov_results, tab)\n",
    "    df['County'] = excel_tabs[tab]\n",
    "    df.columns = [x for x in range(len(df.columns))]\n",
    "    df_list.append(df)\n",
    "gov_results = pd.concat(df_list, axis = 0, ignore_index = True)\n",
    "gov_results.columns = ['Precinct','G20GOVRSUN','G20GOVDFEL','G20GOVLPER','G20GOVOWRI','County']\n",
    "gov_results = gov_results[(gov_results['Precinct'] != '') & (gov_results['Precinct'] != 'TOTALS') & \n",
    "                            (gov_results['G20GOVRSUN'] != 'Governor ') & (gov_results['G20GOVRSUN'] != 'Sununu, r') & \n",
    "                            (gov_results['G20GOVRSUN'] != 'Governor') & (gov_results['G20GOVRSUN'] != 'Governor  ') &\n",
    "                            (gov_results['Precinct'] != 'November 3,2020') & \n",
    "                            (gov_results['Precinct'] != ' ')]\n",
    "gov_results.replace('-', np.nan, inplace = True)\n",
    "gov_results['Precinct'] = gov_results['Precinct'].str.replace('*','')"
   ]
  },
  {
   "cell_type": "code",
   "execution_count": 20,
   "metadata": {},
   "outputs": [
    {
     "data": {
      "text/html": [
       "<div>\n",
       "<style scoped>\n",
       "    .dataframe tbody tr th:only-of-type {\n",
       "        vertical-align: middle;\n",
       "    }\n",
       "\n",
       "    .dataframe tbody tr th {\n",
       "        vertical-align: top;\n",
       "    }\n",
       "\n",
       "    .dataframe thead th {\n",
       "        text-align: right;\n",
       "    }\n",
       "</style>\n",
       "<table border=\"1\" class=\"dataframe\">\n",
       "  <thead>\n",
       "    <tr style=\"text-align: right;\">\n",
       "      <th></th>\n",
       "      <th>Precinct</th>\n",
       "      <th>G20GOVRSUN</th>\n",
       "      <th>G20GOVDFEL</th>\n",
       "      <th>G20GOVLPER</th>\n",
       "      <th>G20GOVOWRI</th>\n",
       "      <th>County</th>\n",
       "    </tr>\n",
       "  </thead>\n",
       "  <tbody>\n",
       "    <tr>\n",
       "      <th>111</th>\n",
       "      <td>Sargent's Purchase</td>\n",
       "      <td>NaN</td>\n",
       "      <td>NaN</td>\n",
       "      <td>NaN</td>\n",
       "      <td>NaN</td>\n",
       "      <td>Coos</td>\n",
       "    </tr>\n",
       "    <tr>\n",
       "      <th>143</th>\n",
       "      <td>Hanover</td>\n",
       "      <td>1742.0</td>\n",
       "      <td>5020.0</td>\n",
       "      <td>76.0</td>\n",
       "      <td>2.0</td>\n",
       "      <td>Grafton</td>\n",
       "    </tr>\n",
       "    <tr>\n",
       "      <th>190</th>\n",
       "      <td>Manchester Ward 2</td>\n",
       "      <td>3062.0</td>\n",
       "      <td>1908.0</td>\n",
       "      <td>84.0</td>\n",
       "      <td>6.0</td>\n",
       "      <td>Hillsborough</td>\n",
       "    </tr>\n",
       "    <tr>\n",
       "      <th>6</th>\n",
       "      <td>Laconia Ward 1</td>\n",
       "      <td>1317.0</td>\n",
       "      <td>421.0</td>\n",
       "      <td>15.0</td>\n",
       "      <td>1.0</td>\n",
       "      <td>Belknap</td>\n",
       "    </tr>\n",
       "    <tr>\n",
       "      <th>82</th>\n",
       "      <td>Cambridge</td>\n",
       "      <td>7.0</td>\n",
       "      <td>0.0</td>\n",
       "      <td>0.0</td>\n",
       "      <td>0.0</td>\n",
       "      <td>Coos</td>\n",
       "    </tr>\n",
       "    <tr>\n",
       "      <th>71</th>\n",
       "      <td>Walpole</td>\n",
       "      <td>1282.0</td>\n",
       "      <td>998.0</td>\n",
       "      <td>42.0</td>\n",
       "      <td>3.0</td>\n",
       "      <td>Cheshire</td>\n",
       "    </tr>\n",
       "    <tr>\n",
       "      <th>122</th>\n",
       "      <td>NaN</td>\n",
       "      <td>NaN</td>\n",
       "      <td>NaN</td>\n",
       "      <td>NaN</td>\n",
       "      <td>NaN</td>\n",
       "      <td>Coos</td>\n",
       "    </tr>\n",
       "    <tr>\n",
       "      <th>339</th>\n",
       "      <td>Somersworth Ward 1</td>\n",
       "      <td>881.0</td>\n",
       "      <td>565.0</td>\n",
       "      <td>20.0</td>\n",
       "      <td>2.0</td>\n",
       "      <td>Strafford</td>\n",
       "    </tr>\n",
       "    <tr>\n",
       "      <th>282</th>\n",
       "      <td>Fremont</td>\n",
       "      <td>2154.0</td>\n",
       "      <td>635.0</td>\n",
       "      <td>37.0</td>\n",
       "      <td>1.0</td>\n",
       "      <td>Rockingham</td>\n",
       "    </tr>\n",
       "    <tr>\n",
       "      <th>154</th>\n",
       "      <td>Livermore</td>\n",
       "      <td>0.0</td>\n",
       "      <td>0.0</td>\n",
       "      <td>0.0</td>\n",
       "      <td>0.0</td>\n",
       "      <td>Grafton</td>\n",
       "    </tr>\n",
       "  </tbody>\n",
       "</table>\n",
       "</div>"
      ],
      "text/plain": [
       "               Precinct  G20GOVRSUN  G20GOVDFEL  G20GOVLPER  G20GOVOWRI  \\\n",
       "111  Sargent's Purchase         NaN         NaN         NaN         NaN   \n",
       "143             Hanover      1742.0      5020.0        76.0         2.0   \n",
       "190   Manchester Ward 2      3062.0      1908.0        84.0         6.0   \n",
       "6        Laconia Ward 1      1317.0       421.0        15.0         1.0   \n",
       "82            Cambridge         7.0         0.0         0.0         0.0   \n",
       "71              Walpole      1282.0       998.0        42.0         3.0   \n",
       "122                 NaN         NaN         NaN         NaN         NaN   \n",
       "339  Somersworth Ward 1       881.0       565.0        20.0         2.0   \n",
       "282             Fremont      2154.0       635.0        37.0         1.0   \n",
       "154           Livermore         0.0         0.0         0.0         0.0   \n",
       "\n",
       "           County  \n",
       "111          Coos  \n",
       "143       Grafton  \n",
       "190  Hillsborough  \n",
       "6         Belknap  \n",
       "82           Coos  \n",
       "71       Cheshire  \n",
       "122          Coos  \n",
       "339     Strafford  \n",
       "282    Rockingham  \n",
       "154       Grafton  "
      ]
     },
     "execution_count": 20,
     "metadata": {},
     "output_type": "execute_result"
    }
   ],
   "source": [
    "gov_results.sample(10)"
   ]
  },
  {
   "cell_type": "markdown",
   "metadata": {},
   "source": [
    "## Combine Results"
   ]
  },
  {
   "cell_type": "code",
   "execution_count": 44,
   "metadata": {},
   "outputs": [
    {
     "name": "stdout",
     "output_type": "stream",
     "text": [
      "(320, 5) (338, 6) (333, 6)\n"
     ]
    }
   ],
   "source": [
    "print(pres_results.shape, uss_results.shape, gov_results.shape)"
   ]
  },
  {
   "cell_type": "code",
   "execution_count": 58,
   "metadata": {},
   "outputs": [
    {
     "data": {
      "text/plain": [
       "(349, 11)"
      ]
     },
     "metadata": {},
     "output_type": "display_data"
    },
    {
     "data": {
      "text/html": [
       "<div>\n",
       "<style scoped>\n",
       "    .dataframe tbody tr th:only-of-type {\n",
       "        vertical-align: middle;\n",
       "    }\n",
       "\n",
       "    .dataframe tbody tr th {\n",
       "        vertical-align: top;\n",
       "    }\n",
       "\n",
       "    .dataframe thead th {\n",
       "        text-align: right;\n",
       "    }\n",
       "</style>\n",
       "<table border=\"1\" class=\"dataframe\">\n",
       "  <thead>\n",
       "    <tr style=\"text-align: right;\">\n",
       "      <th></th>\n",
       "      <th>Precinct</th>\n",
       "      <th>G20USSRMES</th>\n",
       "      <th>G20USSDSHA</th>\n",
       "      <th>G20USSLODO</th>\n",
       "      <th>G20USSOWRI</th>\n",
       "      <th>County</th>\n",
       "      <th>G20GOVRSUN</th>\n",
       "      <th>G20GOVDFEL</th>\n",
       "      <th>G20GOVLPER</th>\n",
       "      <th>G20GOVOWRI</th>\n",
       "      <th>_merge</th>\n",
       "    </tr>\n",
       "  </thead>\n",
       "  <tbody>\n",
       "  </tbody>\n",
       "</table>\n",
       "</div>"
      ],
      "text/plain": [
       "Empty DataFrame\n",
       "Columns: [Precinct, G20USSRMES, G20USSDSHA, G20USSLODO, G20USSOWRI, County, G20GOVRSUN, G20GOVDFEL, G20GOVLPER, G20GOVOWRI, _merge]\n",
       "Index: []"
      ]
     },
     "metadata": {},
     "output_type": "display_data"
    }
   ],
   "source": [
    "election_results = uss_results.merge(gov_results, how = 'outer', on = ['County','Precinct'], indicator = True)\n",
    "display(election_results.shape)\n",
    "display(election_results[election_results['_merge'] != 'both'].sort_values(['County','Precinct']))"
   ]
  },
  {
   "cell_type": "code",
   "execution_count": 59,
   "metadata": {},
   "outputs": [],
   "source": [
    "election_results.drop(columns = ['_merge'], inplace = True)\n",
    "election_results['Precinct'] = election_results['Precinct'].astype(str).apply(lambda x: x.strip())\n",
    "pres_results['Precinct'] = pres_results['Precinct'].apply(lambda x: x.strip())\n",
    "pres_results.loc[pres_results['Precinct'] == \"Wentworth's Loc.\", 'Precinct'] = \"Wentworth's Location\""
   ]
  },
  {
   "cell_type": "code",
   "execution_count": 60,
   "metadata": {},
   "outputs": [
    {
     "data": {
      "text/plain": [
       "(320, 14)"
      ]
     },
     "metadata": {},
     "output_type": "display_data"
    },
    {
     "data": {
      "text/html": [
       "<div>\n",
       "<style scoped>\n",
       "    .dataframe tbody tr th:only-of-type {\n",
       "        vertical-align: middle;\n",
       "    }\n",
       "\n",
       "    .dataframe tbody tr th {\n",
       "        vertical-align: top;\n",
       "    }\n",
       "\n",
       "    .dataframe thead th {\n",
       "        text-align: right;\n",
       "    }\n",
       "</style>\n",
       "<table border=\"1\" class=\"dataframe\">\n",
       "  <thead>\n",
       "    <tr style=\"text-align: right;\">\n",
       "      <th></th>\n",
       "      <th>Precinct</th>\n",
       "      <th>G20USSRMES</th>\n",
       "      <th>G20USSDSHA</th>\n",
       "      <th>G20USSLODO</th>\n",
       "      <th>G20USSOWRI</th>\n",
       "      <th>County</th>\n",
       "      <th>G20GOVRSUN</th>\n",
       "      <th>G20GOVDFEL</th>\n",
       "      <th>G20GOVLPER</th>\n",
       "      <th>G20GOVOWRI</th>\n",
       "      <th>G20PRERTRU</th>\n",
       "      <th>G20PREDBID</th>\n",
       "      <th>G20PRELJOR</th>\n",
       "      <th>_merge</th>\n",
       "    </tr>\n",
       "  </thead>\n",
       "  <tbody>\n",
       "    <tr>\n",
       "      <th>349</th>\n",
       "      <td>Atk. &amp; Gilm. Ac. Gt.</td>\n",
       "      <td>NaN</td>\n",
       "      <td>NaN</td>\n",
       "      <td>NaN</td>\n",
       "      <td>NaN</td>\n",
       "      <td>Coos</td>\n",
       "      <td>NaN</td>\n",
       "      <td>NaN</td>\n",
       "      <td>NaN</td>\n",
       "      <td>NaN</td>\n",
       "      <td>0</td>\n",
       "      <td>0</td>\n",
       "      <td>0</td>\n",
       "      <td>right_only</td>\n",
       "    </tr>\n",
       "    <tr>\n",
       "      <th>350</th>\n",
       "      <td>Low &amp; Burbank's Gt.</td>\n",
       "      <td>NaN</td>\n",
       "      <td>NaN</td>\n",
       "      <td>NaN</td>\n",
       "      <td>NaN</td>\n",
       "      <td>Coos</td>\n",
       "      <td>NaN</td>\n",
       "      <td>NaN</td>\n",
       "      <td>NaN</td>\n",
       "      <td>NaN</td>\n",
       "      <td>0</td>\n",
       "      <td>0</td>\n",
       "      <td>0</td>\n",
       "      <td>right_only</td>\n",
       "    </tr>\n",
       "    <tr>\n",
       "      <th>351</th>\n",
       "      <td>Second College Gt.</td>\n",
       "      <td>NaN</td>\n",
       "      <td>NaN</td>\n",
       "      <td>NaN</td>\n",
       "      <td>NaN</td>\n",
       "      <td>Coos</td>\n",
       "      <td>NaN</td>\n",
       "      <td>NaN</td>\n",
       "      <td>NaN</td>\n",
       "      <td>NaN</td>\n",
       "      <td>0</td>\n",
       "      <td>0</td>\n",
       "      <td>0</td>\n",
       "      <td>right_only</td>\n",
       "    </tr>\n",
       "    <tr>\n",
       "      <th>352</th>\n",
       "      <td>Thompson &amp; Mes's Pur.</td>\n",
       "      <td>NaN</td>\n",
       "      <td>NaN</td>\n",
       "      <td>NaN</td>\n",
       "      <td>NaN</td>\n",
       "      <td>Coos</td>\n",
       "      <td>NaN</td>\n",
       "      <td>NaN</td>\n",
       "      <td>NaN</td>\n",
       "      <td>NaN</td>\n",
       "      <td>0</td>\n",
       "      <td>0</td>\n",
       "      <td>0</td>\n",
       "      <td>right_only</td>\n",
       "    </tr>\n",
       "  </tbody>\n",
       "</table>\n",
       "</div>"
      ],
      "text/plain": [
       "                  Precinct  G20USSRMES  G20USSDSHA  G20USSLODO  G20USSOWRI  \\\n",
       "349   Atk. & Gilm. Ac. Gt.         NaN         NaN         NaN         NaN   \n",
       "350    Low & Burbank's Gt.         NaN         NaN         NaN         NaN   \n",
       "351     Second College Gt.         NaN         NaN         NaN         NaN   \n",
       "352  Thompson & Mes's Pur.         NaN         NaN         NaN         NaN   \n",
       "\n",
       "    County  G20GOVRSUN  G20GOVDFEL  G20GOVLPER  G20GOVOWRI G20PRERTRU  \\\n",
       "349   Coos         NaN         NaN         NaN         NaN          0   \n",
       "350   Coos         NaN         NaN         NaN         NaN          0   \n",
       "351   Coos         NaN         NaN         NaN         NaN          0   \n",
       "352   Coos         NaN         NaN         NaN         NaN          0   \n",
       "\n",
       "    G20PREDBID G20PRELJOR      _merge  \n",
       "349          0          0  right_only  \n",
       "350          0          0  right_only  \n",
       "351          0          0  right_only  \n",
       "352          0          0  right_only  "
      ]
     },
     "metadata": {},
     "output_type": "display_data"
    }
   ],
   "source": [
    "election_results = election_results.merge(pres_results, how = 'outer', on = ['County','Precinct'], indicator = True)\n",
    "election_results = election_results.dropna(subset=['G20USSRMES', 'G20USSDSHA', 'G20USSLODO', 'G20USSOWRI',\n",
    "       'G20GOVRSUN', 'G20GOVDFEL', 'G20GOVLPER', 'G20GOVOWRI',\n",
    "       'G20PRERTRU', 'G20PREDBID', 'G20PRELJOR'], how='all')\n",
    "display(election_results.shape)\n",
    "display(election_results[election_results['_merge'] != 'both'].sort_values(['County','Precinct']))"
   ]
  },
  {
   "cell_type": "code",
   "execution_count": 61,
   "metadata": {},
   "outputs": [
    {
     "data": {
      "text/plain": [
       "(321, 18)"
      ]
     },
     "execution_count": 61,
     "metadata": {},
     "output_type": "execute_result"
    }
   ],
   "source": [
    "vest_shp.shape"
   ]
  },
  {
   "cell_type": "markdown",
   "metadata": {},
   "source": [
    "# Validating Election Results"
   ]
  },
  {
   "cell_type": "markdown",
   "metadata": {},
   "source": [
    "## Race Totals"
   ]
  },
  {
   "cell_type": "code",
   "execution_count": 62,
   "metadata": {},
   "outputs": [
    {
     "data": {
      "text/plain": [
       "Index(['Precinct', 'G20USSRMES', 'G20USSDSHA', 'G20USSLODO', 'G20USSOWRI',\n",
       "       'County', 'G20GOVRSUN', 'G20GOVDFEL', 'G20GOVLPER', 'G20GOVOWRI',\n",
       "       'G20PRERTRU', 'G20PREDBID', 'G20PRELJOR', '_merge'],\n",
       "      dtype='object')"
      ]
     },
     "execution_count": 62,
     "metadata": {},
     "output_type": "execute_result"
    }
   ],
   "source": [
    "election_results.columns"
   ]
  },
  {
   "cell_type": "code",
   "execution_count": 64,
   "metadata": {},
   "outputs": [
    {
     "name": "stdout",
     "output_type": "stream",
     "text": [
      "***Statewide Totals Check***\n",
      "G20USSRMES is equal \tVEST / RDH: 326229\n",
      "G20USSDSHA is equal \tVEST / RDH: 450778\n",
      "G20USSLODO is equal \tVEST / RDH: 18421\n",
      "G20USSOWRI is equal \tVEST / RDH: 486\n",
      "G20GOVRSUN is equal \tVEST / RDH: 516609\n",
      "G20GOVDFEL is equal \tVEST / RDH: 264639\n",
      "G20GOVLPER is equal \tVEST / RDH: 11329\n",
      "G20GOVOWRI is equal \tVEST / RDH: 683\n",
      "G20PRERTRU is equal \tVEST / RDH: 365660\n",
      "G20PREDBID is equal \tVEST / RDH: 424937\n",
      "G20PRELJOR is equal \tVEST / RDH: 13236\n"
     ]
    }
   ],
   "source": [
    "def statewide_totals_check(partner_df,source_df,column_list):\n",
    "    print(\"***Statewide Totals Check***\")\n",
    "    for race in column_list:\n",
    "        if (sum(partner_df[race])- source_df[race].sum() != 0):\n",
    "            print(race+\" has a difference of \"+str(sum(partner_df[race])-source_df[race].sum())+\" votes\")\n",
    "            print(\"\\tVEST: \"+str(sum(partner_df[race]))+\" votes\")\n",
    "            print(\"\\tSOURCES: \"+str(source_df[race].sum())+\" votes\")\n",
    "        else:\n",
    "            print(race + \" is equal\", \"\\tVEST / RDH: \" + str(sum(partner_df[race])))\n",
    "\n",
    "\n",
    "data_columns = ['G20USSRMES', 'G20USSDSHA', 'G20USSLODO', 'G20USSOWRI',\n",
    "       'G20GOVRSUN', 'G20GOVDFEL', 'G20GOVLPER', 'G20GOVOWRI',\n",
    "       'G20PRERTRU', 'G20PREDBID', 'G20PRELJOR']\n",
    "\n",
    "statewide_totals_check(vest_shp, election_results, data_columns)"
   ]
  },
  {
   "cell_type": "markdown",
   "metadata": {},
   "source": [
    "## County-by-County Totals"
   ]
  },
  {
   "cell_type": "code",
   "execution_count": 69,
   "metadata": {},
   "outputs": [],
   "source": [
    "election_results['COUNTYFP20'] = election_results['County'].map(fips_dict)"
   ]
  },
  {
   "cell_type": "code",
   "execution_count": 87,
   "metadata": {},
   "outputs": [
    {
     "name": "stdout",
     "output_type": "stream",
     "text": [
      "***Countywide Totals Check***\n",
      "\n",
      "G20USSRMES is equal across all counties\n",
      "G20USSDSHA is equal across all counties\n",
      "G20USSLODO is equal across all counties\n",
      "G20USSOWRI is equal across all counties\n",
      "G20GOVRSUN is equal across all counties\n",
      "G20GOVDFEL is equal across all counties\n",
      "G20GOVLPER is equal across all counties\n",
      "G20GOVOWRI is equal across all counties\n",
      "G20PRERTRU is equal across all counties\n",
      "G20PREDBID is equal across all counties\n",
      "G20PRELJOR is equal across all counties\n"
     ]
    }
   ],
   "source": [
    "def county_totals_check(partner_df,source_df,column_list,county_col,full_print=False):\n",
    "    print(\"***Countywide Totals Check***\")\n",
    "    print(\"\")\n",
    "    diff_counties=[]\n",
    "    for race in column_list:\n",
    "        diff = partner_df.groupby([county_col]).sum()[race]-source_df.groupby([county_col]).sum()[race]\n",
    "        for val in diff[diff != 0].index.values.tolist():\n",
    "            if val not in diff_counties:\n",
    "                diff_counties.append(val)\n",
    "        if len(diff[diff != 0]!=0):   \n",
    "            print(race + \" contains differences in these counties:\")\n",
    "            for val in diff[diff != 0].index.values.tolist():\n",
    "                county_differences = diff[diff != 0]\n",
    "                print(\"\\t\"+val+\" has a difference of \"+str(county_differences[val])+\" votes\")\n",
    "                print(\"\\t\\tVEST: \"+str(partner_df.groupby([county_col]).sum().loc[val,race])+\" votes\")\n",
    "                print(\"\\t\\tSOURCES: \"+str(source_df.groupby([county_col]).sum().loc[val,race])+\" votes\")\n",
    "            if (full_print):\n",
    "                for val in diff[diff == 0].index.values.tolist():\n",
    "                    county_similarities = diff[diff == 0]\n",
    "                    print(\"\\t\"+val + \": \"+ str(partner_df.groupby([county_col]).sum().loc[val,race])+\" votes\")\n",
    "        else:\n",
    "            print(race + \" is equal across all counties\")\n",
    "            if (full_print):\n",
    "                for val in diff[diff == 0].index.values.tolist():\n",
    "                    county_similarities = diff[diff == 0]\n",
    "                    print(\"\\t\"+val + \": \"+ str(partner_df.groupby([county_col]).sum().loc[val,race])+\" votes\")\n",
    "\n",
    "\n",
    "election_results[\"G20PRERTRU\"] = election_results.G20PRERTRU.astype(float)\n",
    "election_results[\"G20PREDBID\"] = election_results.G20PREDBID.astype(float)\n",
    "election_results[\"G20PRELJOR\"] = election_results.G20PRELJOR.astype(float)\n",
    "               \n",
    "county_totals_check(vest_shp,election_results,data_columns,'COUNTYFP20')"
   ]
  },
  {
   "cell_type": "markdown",
   "metadata": {},
   "source": [
    "## Precinct-by-Precinct Votes"
   ]
  },
  {
   "cell_type": "markdown",
   "metadata": {},
   "source": [
    "### Merge VEST and RDH"
   ]
  },
  {
   "cell_type": "markdown",
   "metadata": {},
   "source": [
    "#### Clean"
   ]
  },
  {
   "cell_type": "code",
   "execution_count": 95,
   "metadata": {},
   "outputs": [
    {
     "data": {
      "text/html": [
       "<div>\n",
       "<style scoped>\n",
       "    .dataframe tbody tr th:only-of-type {\n",
       "        vertical-align: middle;\n",
       "    }\n",
       "\n",
       "    .dataframe tbody tr th {\n",
       "        vertical-align: top;\n",
       "    }\n",
       "\n",
       "    .dataframe thead th {\n",
       "        text-align: right;\n",
       "    }\n",
       "</style>\n",
       "<table border=\"1\" class=\"dataframe\">\n",
       "  <thead>\n",
       "    <tr style=\"text-align: right;\">\n",
       "      <th></th>\n",
       "      <th>Precinct</th>\n",
       "      <th>G20USSRMES</th>\n",
       "      <th>G20USSDSHA</th>\n",
       "      <th>G20USSLODO</th>\n",
       "      <th>G20USSOWRI</th>\n",
       "      <th>County</th>\n",
       "      <th>G20GOVRSUN</th>\n",
       "      <th>G20GOVDFEL</th>\n",
       "      <th>G20GOVLPER</th>\n",
       "      <th>G20GOVOWRI</th>\n",
       "      <th>G20PRERTRU</th>\n",
       "      <th>G20PREDBID</th>\n",
       "      <th>G20PRELJOR</th>\n",
       "      <th>_merge</th>\n",
       "      <th>COUNTYFP20</th>\n",
       "    </tr>\n",
       "  </thead>\n",
       "  <tbody>\n",
       "    <tr>\n",
       "      <th>0</th>\n",
       "      <td>Alton</td>\n",
       "      <td>2217.0</td>\n",
       "      <td>1597.0</td>\n",
       "      <td>68.0</td>\n",
       "      <td>4.0</td>\n",
       "      <td>Belknap</td>\n",
       "      <td>3093.0</td>\n",
       "      <td>757.0</td>\n",
       "      <td>36.0</td>\n",
       "      <td>6.0</td>\n",
       "      <td>2420.0</td>\n",
       "      <td>1438.0</td>\n",
       "      <td>45.0</td>\n",
       "      <td>both</td>\n",
       "      <td>001</td>\n",
       "    </tr>\n",
       "    <tr>\n",
       "      <th>15</th>\n",
       "      <td>Tilton</td>\n",
       "      <td>879.0</td>\n",
       "      <td>1069.0</td>\n",
       "      <td>49.0</td>\n",
       "      <td>2.0</td>\n",
       "      <td>Belknap</td>\n",
       "      <td>1451.0</td>\n",
       "      <td>529.0</td>\n",
       "      <td>39.0</td>\n",
       "      <td>2.0</td>\n",
       "      <td>1044.0</td>\n",
       "      <td>938.0</td>\n",
       "      <td>43.0</td>\n",
       "      <td>both</td>\n",
       "      <td>001</td>\n",
       "    </tr>\n",
       "  </tbody>\n",
       "</table>\n",
       "</div>"
      ],
      "text/plain": [
       "   Precinct  G20USSRMES  G20USSDSHA  G20USSLODO  G20USSOWRI   County  \\\n",
       "0     Alton      2217.0      1597.0        68.0         4.0  Belknap   \n",
       "15   Tilton       879.0      1069.0        49.0         2.0  Belknap   \n",
       "\n",
       "    G20GOVRSUN  G20GOVDFEL  G20GOVLPER  G20GOVOWRI  G20PRERTRU  G20PREDBID  \\\n",
       "0       3093.0       757.0        36.0         6.0      2420.0      1438.0   \n",
       "15      1451.0       529.0        39.0         2.0      1044.0       938.0   \n",
       "\n",
       "    G20PRELJOR _merge COUNTYFP20  \n",
       "0         45.0   both        001  \n",
       "15        43.0   both        001  "
      ]
     },
     "metadata": {},
     "output_type": "display_data"
    },
    {
     "data": {
      "text/html": [
       "<div>\n",
       "<style scoped>\n",
       "    .dataframe tbody tr th:only-of-type {\n",
       "        vertical-align: middle;\n",
       "    }\n",
       "\n",
       "    .dataframe tbody tr th {\n",
       "        vertical-align: top;\n",
       "    }\n",
       "\n",
       "    .dataframe thead th {\n",
       "        text-align: right;\n",
       "    }\n",
       "</style>\n",
       "<table border=\"1\" class=\"dataframe\">\n",
       "  <thead>\n",
       "    <tr style=\"text-align: right;\">\n",
       "      <th></th>\n",
       "      <th>STATEFP20</th>\n",
       "      <th>COUNTYFP20</th>\n",
       "      <th>VTDST20</th>\n",
       "      <th>GEOID20</th>\n",
       "      <th>NAME20</th>\n",
       "      <th>NAMELSAD20</th>\n",
       "      <th>G20PREDBID</th>\n",
       "      <th>G20PRERTRU</th>\n",
       "      <th>G20PRELJOR</th>\n",
       "      <th>G20USSDSHA</th>\n",
       "      <th>G20USSRMES</th>\n",
       "      <th>G20USSLODO</th>\n",
       "      <th>G20USSOWRI</th>\n",
       "      <th>G20GOVDFEL</th>\n",
       "      <th>G20GOVRSUN</th>\n",
       "      <th>G20GOVLPER</th>\n",
       "      <th>G20GOVOWRI</th>\n",
       "      <th>geometry</th>\n",
       "    </tr>\n",
       "  </thead>\n",
       "  <tbody>\n",
       "    <tr>\n",
       "      <th>257</th>\n",
       "      <td>33</td>\n",
       "      <td>001</td>\n",
       "      <td>NEWH01</td>\n",
       "      <td>33001NEWH01</td>\n",
       "      <td>TOWN OF NEW HAMPTON</td>\n",
       "      <td>TOWN OF NEW HAMPTON Voting District</td>\n",
       "      <td>697</td>\n",
       "      <td>810</td>\n",
       "      <td>27</td>\n",
       "      <td>763</td>\n",
       "      <td>721</td>\n",
       "      <td>36</td>\n",
       "      <td>4</td>\n",
       "      <td>440</td>\n",
       "      <td>1065</td>\n",
       "      <td>18</td>\n",
       "      <td>3</td>\n",
       "      <td>POLYGON ((-71.73171 43.59006, -71.73166 43.590...</td>\n",
       "    </tr>\n",
       "    <tr>\n",
       "      <th>253</th>\n",
       "      <td>33</td>\n",
       "      <td>001</td>\n",
       "      <td>ALTO01</td>\n",
       "      <td>33001ALTO01</td>\n",
       "      <td>TOWN OF ALTON</td>\n",
       "      <td>TOWN OF ALTON Voting District</td>\n",
       "      <td>1438</td>\n",
       "      <td>2420</td>\n",
       "      <td>45</td>\n",
       "      <td>1597</td>\n",
       "      <td>2217</td>\n",
       "      <td>68</td>\n",
       "      <td>4</td>\n",
       "      <td>757</td>\n",
       "      <td>3093</td>\n",
       "      <td>36</td>\n",
       "      <td>6</td>\n",
       "      <td>POLYGON ((-71.34362 43.62879, -71.34345 43.628...</td>\n",
       "    </tr>\n",
       "  </tbody>\n",
       "</table>\n",
       "</div>"
      ],
      "text/plain": [
       "    STATEFP20 COUNTYFP20 VTDST20      GEOID20               NAME20  \\\n",
       "257        33        001  NEWH01  33001NEWH01  TOWN OF NEW HAMPTON   \n",
       "253        33        001  ALTO01  33001ALTO01        TOWN OF ALTON   \n",
       "\n",
       "                              NAMELSAD20  G20PREDBID  G20PRERTRU  G20PRELJOR  \\\n",
       "257  TOWN OF NEW HAMPTON Voting District         697         810          27   \n",
       "253        TOWN OF ALTON Voting District        1438        2420          45   \n",
       "\n",
       "     G20USSDSHA  G20USSRMES  G20USSLODO  G20USSOWRI  G20GOVDFEL  G20GOVRSUN  \\\n",
       "257         763         721          36           4         440        1065   \n",
       "253        1597        2217          68           4         757        3093   \n",
       "\n",
       "     G20GOVLPER  G20GOVOWRI                                           geometry  \n",
       "257          18           3  POLYGON ((-71.73171 43.59006, -71.73166 43.590...  \n",
       "253          36           6  POLYGON ((-71.34362 43.62879, -71.34345 43.628...  "
      ]
     },
     "metadata": {},
     "output_type": "display_data"
    }
   ],
   "source": [
    "display(election_results.sort_values('COUNTYFP20').head(2))\n",
    "display(vest_shp.sort_values('COUNTYFP20').head(2))"
   ]
  },
  {
   "cell_type": "code",
   "execution_count": 92,
   "metadata": {},
   "outputs": [
    {
     "data": {
      "text/plain": [
       "321"
      ]
     },
     "execution_count": 92,
     "metadata": {},
     "output_type": "execute_result"
    }
   ],
   "source": [
    "len(vest_shp['NAME20'].unique())"
   ]
  },
  {
   "cell_type": "code",
   "execution_count": 93,
   "metadata": {},
   "outputs": [
    {
     "data": {
      "text/plain": [
       "320"
      ]
     },
     "execution_count": 93,
     "metadata": {},
     "output_type": "execute_result"
    }
   ],
   "source": [
    "len(election_results['Precinct'].unique())"
   ]
  },
  {
   "cell_type": "code",
   "execution_count": 109,
   "metadata": {},
   "outputs": [],
   "source": [
    "vest_shp['join_col'] = vest_shp['COUNTYFP20'] + vest_shp['NAME20'].str.replace('TOWN OF ','').str.replace('TOWNSHIP OF ','').str.lower()\n",
    "election_results['join_col'] = election_results['COUNTYFP20'] + election_results['Precinct'].str.replace(\"'\",\"\").str.lower()"
   ]
  },
  {
   "cell_type": "code",
   "execution_count": 102,
   "metadata": {},
   "outputs": [],
   "source": [
    "election_results.drop(columns = ['_merge'], inplace = True)"
   ]
  },
  {
   "cell_type": "markdown",
   "metadata": {},
   "source": [
    "#### Join Attempt #1"
   ]
  },
  {
   "cell_type": "code",
   "execution_count": 110,
   "metadata": {},
   "outputs": [
    {
     "data": {
      "text/html": [
       "<div>\n",
       "<style scoped>\n",
       "    .dataframe tbody tr th:only-of-type {\n",
       "        vertical-align: middle;\n",
       "    }\n",
       "\n",
       "    .dataframe tbody tr th {\n",
       "        vertical-align: top;\n",
       "    }\n",
       "\n",
       "    .dataframe thead th {\n",
       "        text-align: right;\n",
       "    }\n",
       "</style>\n",
       "<table border=\"1\" class=\"dataframe\">\n",
       "  <thead>\n",
       "    <tr style=\"text-align: right;\">\n",
       "      <th></th>\n",
       "      <th>join_col</th>\n",
       "      <th>County</th>\n",
       "    </tr>\n",
       "  </thead>\n",
       "  <tbody>\n",
       "    <tr>\n",
       "      <th>36</th>\n",
       "      <td>007atkinson and gilmanton academy grant</td>\n",
       "      <td>NaN</td>\n",
       "    </tr>\n",
       "    <tr>\n",
       "      <th>58</th>\n",
       "      <td>007low and burbanks grant</td>\n",
       "      <td>NaN</td>\n",
       "    </tr>\n",
       "    <tr>\n",
       "      <th>69</th>\n",
       "      <td>007second college grant</td>\n",
       "      <td>NaN</td>\n",
       "    </tr>\n",
       "    <tr>\n",
       "      <th>74</th>\n",
       "      <td>007thompson and meserves purchase</td>\n",
       "      <td>NaN</td>\n",
       "    </tr>\n",
       "    <tr>\n",
       "      <th>75</th>\n",
       "      <td>007wentworth location</td>\n",
       "      <td>NaN</td>\n",
       "    </tr>\n",
       "    <tr>\n",
       "      <th>252</th>\n",
       "      <td>015voting districts not defined</td>\n",
       "      <td>NaN</td>\n",
       "    </tr>\n",
       "    <tr>\n",
       "      <th>319</th>\n",
       "      <td>015derry wards 1-4</td>\n",
       "      <td>NaN</td>\n",
       "    </tr>\n",
       "    <tr>\n",
       "      <th>320</th>\n",
       "      <td>007berlin wards 1-3</td>\n",
       "      <td>NaN</td>\n",
       "    </tr>\n",
       "    <tr>\n",
       "      <th>321</th>\n",
       "      <td>007berlin</td>\n",
       "      <td>Coos</td>\n",
       "    </tr>\n",
       "    <tr>\n",
       "      <th>322</th>\n",
       "      <td>007wentworths location</td>\n",
       "      <td>Coos</td>\n",
       "    </tr>\n",
       "    <tr>\n",
       "      <th>323</th>\n",
       "      <td>015derry</td>\n",
       "      <td>Rockingham</td>\n",
       "    </tr>\n",
       "    <tr>\n",
       "      <th>324</th>\n",
       "      <td>007atk. &amp; gilm. ac. gt.</td>\n",
       "      <td>Coos</td>\n",
       "    </tr>\n",
       "    <tr>\n",
       "      <th>325</th>\n",
       "      <td>007low &amp; burbanks gt.</td>\n",
       "      <td>Coos</td>\n",
       "    </tr>\n",
       "    <tr>\n",
       "      <th>326</th>\n",
       "      <td>007second college gt.</td>\n",
       "      <td>Coos</td>\n",
       "    </tr>\n",
       "    <tr>\n",
       "      <th>327</th>\n",
       "      <td>007thompson &amp; mess pur.</td>\n",
       "      <td>Coos</td>\n",
       "    </tr>\n",
       "  </tbody>\n",
       "</table>\n",
       "</div>"
      ],
      "text/plain": [
       "                                    join_col      County\n",
       "36   007atkinson and gilmanton academy grant         NaN\n",
       "58                 007low and burbanks grant         NaN\n",
       "69                   007second college grant         NaN\n",
       "74         007thompson and meserves purchase         NaN\n",
       "75                     007wentworth location         NaN\n",
       "252          015voting districts not defined         NaN\n",
       "319                       015derry wards 1-4         NaN\n",
       "320                      007berlin wards 1-3         NaN\n",
       "321                                007berlin        Coos\n",
       "322                   007wentworths location        Coos\n",
       "323                                 015derry  Rockingham\n",
       "324                  007atk. & gilm. ac. gt.        Coos\n",
       "325                    007low & burbanks gt.        Coos\n",
       "326                    007second college gt.        Coos\n",
       "327                  007thompson & mess pur.        Coos"
      ]
     },
     "execution_count": 110,
     "metadata": {},
     "output_type": "execute_result"
    }
   ],
   "source": [
    "merge_df = vest_shp.merge(election_results, how = 'outer', on = 'join_col', indicator = True)\n",
    "merge_df[merge_df['_merge'] != 'both'][['join_col','County']]"
   ]
  },
  {
   "cell_type": "code",
   "execution_count": 111,
   "metadata": {},
   "outputs": [],
   "source": [
    "election_results.loc[election_results['join_col'] == \"007berlin\", 'join_col'] = \"007berlin wards 1-3\"\n",
    "election_results.loc[election_results['join_col'] == \"007wentworths location\", 'join_col'] = \"007wentworth location\"\n",
    "election_results.loc[election_results['join_col'] == \"015derry\", 'join_col'] = \"015derry wards 1-4\"\n",
    "election_results.loc[election_results['join_col'] == \"007atk. & gilm. ac. gt.\", 'join_col'] = \"007atkinson and gilmanton academy grant\"\n",
    "election_results.loc[election_results['join_col'] == \"007low & burbanks gt.\", 'join_col'] = \"007low and burbanks grant\"\n",
    "election_results.loc[election_results['join_col'] == \"007second college gt.\", 'join_col'] = \"007second college grant\"\n",
    "election_results.loc[election_results['join_col'] == \"007thompson & mess pur.\", 'join_col'] = \"007thompson and meserves purchase\""
   ]
  },
  {
   "cell_type": "markdown",
   "metadata": {},
   "source": [
    "#### Join Attempt #2"
   ]
  },
  {
   "cell_type": "code",
   "execution_count": 112,
   "metadata": {},
   "outputs": [
    {
     "data": {
      "text/html": [
       "<div>\n",
       "<style scoped>\n",
       "    .dataframe tbody tr th:only-of-type {\n",
       "        vertical-align: middle;\n",
       "    }\n",
       "\n",
       "    .dataframe tbody tr th {\n",
       "        vertical-align: top;\n",
       "    }\n",
       "\n",
       "    .dataframe thead th {\n",
       "        text-align: right;\n",
       "    }\n",
       "</style>\n",
       "<table border=\"1\" class=\"dataframe\">\n",
       "  <thead>\n",
       "    <tr style=\"text-align: right;\">\n",
       "      <th></th>\n",
       "      <th>join_col</th>\n",
       "      <th>County</th>\n",
       "    </tr>\n",
       "  </thead>\n",
       "  <tbody>\n",
       "    <tr>\n",
       "      <th>252</th>\n",
       "      <td>015voting districts not defined</td>\n",
       "      <td>NaN</td>\n",
       "    </tr>\n",
       "  </tbody>\n",
       "</table>\n",
       "</div>"
      ],
      "text/plain": [
       "                            join_col County\n",
       "252  015voting districts not defined    NaN"
      ]
     },
     "execution_count": 112,
     "metadata": {},
     "output_type": "execute_result"
    }
   ],
   "source": [
    "merge_df = vest_shp.merge(election_results, how = 'outer', on = 'join_col', indicator = True)\n",
    "merge_df[merge_df['_merge'] != 'both'][['join_col','County']]"
   ]
  },
  {
   "cell_type": "code",
   "execution_count": 113,
   "metadata": {},
   "outputs": [
    {
     "data": {
      "text/html": [
       "<div>\n",
       "<style scoped>\n",
       "    .dataframe tbody tr th:only-of-type {\n",
       "        vertical-align: middle;\n",
       "    }\n",
       "\n",
       "    .dataframe tbody tr th {\n",
       "        vertical-align: top;\n",
       "    }\n",
       "\n",
       "    .dataframe thead th {\n",
       "        text-align: right;\n",
       "    }\n",
       "</style>\n",
       "<table border=\"1\" class=\"dataframe\">\n",
       "  <thead>\n",
       "    <tr style=\"text-align: right;\">\n",
       "      <th></th>\n",
       "      <th>STATEFP20</th>\n",
       "      <th>COUNTYFP20</th>\n",
       "      <th>VTDST20</th>\n",
       "      <th>GEOID20</th>\n",
       "      <th>NAME20</th>\n",
       "      <th>NAMELSAD20</th>\n",
       "      <th>G20PREDBID</th>\n",
       "      <th>G20PRERTRU</th>\n",
       "      <th>G20PRELJOR</th>\n",
       "      <th>G20USSDSHA</th>\n",
       "      <th>G20USSRMES</th>\n",
       "      <th>G20USSLODO</th>\n",
       "      <th>G20USSOWRI</th>\n",
       "      <th>G20GOVDFEL</th>\n",
       "      <th>G20GOVRSUN</th>\n",
       "      <th>G20GOVLPER</th>\n",
       "      <th>G20GOVOWRI</th>\n",
       "      <th>geometry</th>\n",
       "      <th>join_col</th>\n",
       "    </tr>\n",
       "  </thead>\n",
       "  <tbody>\n",
       "    <tr>\n",
       "      <th>252</th>\n",
       "      <td>33</td>\n",
       "      <td>015</td>\n",
       "      <td>ZZZZZZ</td>\n",
       "      <td>33015ZZZZZZ</td>\n",
       "      <td>Voting Districts Not Defined</td>\n",
       "      <td>Voting Districts Not Defined</td>\n",
       "      <td>0</td>\n",
       "      <td>0</td>\n",
       "      <td>0</td>\n",
       "      <td>0</td>\n",
       "      <td>0</td>\n",
       "      <td>0</td>\n",
       "      <td>0</td>\n",
       "      <td>0</td>\n",
       "      <td>0</td>\n",
       "      <td>0</td>\n",
       "      <td>0</td>\n",
       "      <td>MULTIPOLYGON (((-70.69464 42.95636, -70.69336 ...</td>\n",
       "      <td>015voting districts not defined</td>\n",
       "    </tr>\n",
       "  </tbody>\n",
       "</table>\n",
       "</div>"
      ],
      "text/plain": [
       "    STATEFP20 COUNTYFP20 VTDST20      GEOID20                        NAME20  \\\n",
       "252        33        015  ZZZZZZ  33015ZZZZZZ  Voting Districts Not Defined   \n",
       "\n",
       "                       NAMELSAD20  G20PREDBID  G20PRERTRU  G20PRELJOR  \\\n",
       "252  Voting Districts Not Defined           0           0           0   \n",
       "\n",
       "     G20USSDSHA  G20USSRMES  G20USSLODO  G20USSOWRI  G20GOVDFEL  G20GOVRSUN  \\\n",
       "252           0           0           0           0           0           0   \n",
       "\n",
       "     G20GOVLPER  G20GOVOWRI  \\\n",
       "252           0           0   \n",
       "\n",
       "                                              geometry  \\\n",
       "252  MULTIPOLYGON (((-70.69464 42.95636, -70.69336 ...   \n",
       "\n",
       "                            join_col  \n",
       "252  015voting districts not defined  "
      ]
     },
     "execution_count": 113,
     "metadata": {},
     "output_type": "execute_result"
    }
   ],
   "source": [
    "vest_shp[vest_shp['join_col'] == '015voting districts not defined']"
   ]
  },
  {
   "cell_type": "markdown",
   "metadata": {},
   "source": [
    "### Validate"
   ]
  },
  {
   "cell_type": "code",
   "execution_count": 116,
   "metadata": {},
   "outputs": [],
   "source": [
    "def precinct_votes_check(merged_df,column_list,vest_on_left,name_col,print_level=0):\n",
    "    merged_df = merged_df.sort_values(by=[name_col],inplace=False)\n",
    "    matching_rows = 0\n",
    "    different_rows = 0\n",
    "    diff_list=[]\n",
    "    diff_values = []\n",
    "    max_diff = 0\n",
    "    for index,row in merged_df.iterrows():\n",
    "        same = True\n",
    "        for i in column_list:\n",
    "            left_data = i + \"_x\"\n",
    "            right_data = i + \"_y\"\n",
    "            if ((row[left_data] is None) or (row[right_data] is None) or (np.isnan(row[right_data])or(np.isnan(row[left_data])))):\n",
    "                print(\"FIX NaN value at: \", row[name_col])\n",
    "                return;\n",
    "            diff = abs(row[left_data]-row[right_data])\n",
    "            if (diff>0):\n",
    "                same = False\n",
    "                diff_values.append(abs(diff))\n",
    "                if (diff>max_diff):\n",
    "                    max_diff = diff\n",
    "            if(diff>print_level):\n",
    "                if (vest_on_left):\n",
    "                    print(i, \"{:.>72}\".format(row[name_col]), \"(V)\",\"{:.>5}\".format(int(row[left_data])),\" (S){:.>5}\".format(int(row[right_data])),\"(D):{:>5}\".format(int(row[left_data]-row[right_data])))                           \n",
    "                else:\n",
    "                    print(i, \"{:.>72}\".format(row[name_col]), \"(S)\",\"{:.>5}\".format(int(row[left_data])),\" (V){:.>5}\".format(int(row[right_data])),\"(D):{:>5}\".format(int(row[left_data]-row[right_data])))\n",
    "        if(same != True):\n",
    "            different_rows +=1\n",
    "            diff_list.append(row[name_col])\n",
    "        else:\n",
    "            matching_rows +=1\n",
    "    print(\"\")\n",
    "    print(\"There are \", len(merged_df.index),\" total rows\")\n",
    "    print(different_rows,\" of these rows have election result differences\")\n",
    "    print(matching_rows,\" of these rows are the same\")\n",
    "    print(\"\")\n",
    "    print(\"The max difference between any one shared column in a row is: \", max_diff)\n",
    "    if(len(diff_values)!=0):\n",
    "        print(\"The average difference is: \", str(sum(diff_values)/len(diff_values)))\n",
    "    count_big_diff = len([i for i in diff_values if i > 10])\n",
    "    print(\"There are \", str(count_big_diff), \"precinct results with a difference greater than 10\")\n",
    "    print(\"\")\n",
    "    print(\"All precincts containing differences:\")\n",
    "    diff_list.sort()\n",
    "    print(diff_list)"
   ]
  },
  {
   "cell_type": "code",
   "execution_count": 117,
   "metadata": {},
   "outputs": [
    {
     "name": "stdout",
     "output_type": "stream",
     "text": [
      "\n",
      "There are  321  total rows\n",
      "0  of these rows have election result differences\n",
      "321  of these rows are the same\n",
      "\n",
      "The max difference between any one shared column in a row is:  0\n",
      "There are  0 precinct results with a difference greater than 10\n",
      "\n",
      "All precincts containing differences:\n",
      "[]\n"
     ]
    }
   ],
   "source": [
    "# Replace nan votes with 0 votes\n",
    "for col in data_columns: \n",
    "    merge_df[col + '_y'] = merge_df[col + '_y'].fillna(0)\n",
    "\n",
    "\n",
    "precinct_votes_check(merge_df,data_columns,True,'join_col',print_level=0)"
   ]
  }
 ],
 "metadata": {
  "kernelspec": {
   "display_name": "Python 3",
   "language": "python",
   "name": "python3"
  },
  "language_info": {
   "codemirror_mode": {
    "name": "ipython",
    "version": 3
   },
   "file_extension": ".py",
   "mimetype": "text/x-python",
   "name": "python",
   "nbconvert_exporter": "python",
   "pygments_lexer": "ipython3",
   "version": "3.8.2"
  },
  "toc-autonumbering": true
 },
 "nbformat": 4,
 "nbformat_minor": 4
}
