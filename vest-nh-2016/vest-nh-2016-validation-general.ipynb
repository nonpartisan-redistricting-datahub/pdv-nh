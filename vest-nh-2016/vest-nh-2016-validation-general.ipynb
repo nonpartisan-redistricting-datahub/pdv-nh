{
 "cells": [
  {
   "cell_type": "code",
   "execution_count": 1,
   "metadata": {},
   "outputs": [],
   "source": [
    "import pandas as pd\n",
    "import sys\n",
    "import numpy as np\n",
    "import geopandas as gp\n",
    "import os\n",
    "import matplotlib.pyplot as plt\n",
    "import datetime"
   ]
  },
  {
   "cell_type": "markdown",
   "metadata": {},
   "source": [
    "# Precinct Shapefile"
   ]
  },
  {
   "cell_type": "markdown",
   "metadata": {},
   "source": [
    "## VEST's Documentation File"
   ]
  },
  {
   "cell_type": "markdown",
   "metadata": {},
   "source": [
    "Election results from New Hampshire Secretary of State (https://sos.nh.gov/2016GenResults.aspx)\n",
    "\n",
    "Precinct shapefile from the U.S. Census Bureau's 2020 Redistricting Data Program Phase 2 release.\n",
    "\n",
    "The Census VTD shapefile includes wards for the Town of Berlin and the Town of Derry that are only used for municipal elections. These were merged to match the statewide election returns. The wards for the Town of Laconia were revised to match the 2012 municipal redistricting map.\n",
    "\n",
    "Results reported across two files, one for the general, one for the presidential primary.\n",
    "\n",
    "*nh_2016 file*\n",
    "- G16PRERTRU - Donald J. Trump (Republican Party)\n",
    "- G16PREDCLI - Hillary Clinton (Democratic Party)\n",
    "- G16PRELJOH - Gary Johnson (Libertarian Party)\n",
    "- G16PREGSTE - Jill Stein (Green Party)\n",
    "- G16PREOFUE - Roque \"Rocky\" De La Fuente (American Delta Party)\n",
    "- G16PREOWRI - Write-in Votes\n",
    "\n",
    "\n",
    "- G16USSRAYO - Kelly Ayotte (Republican Party)\n",
    "- G16USSDHAS - Maggie Hassan (Democratic Party)\n",
    "- G16USSLCHA - Brian Chabot (Libertarian Party)\n",
    "- G16USSIDAY - Aaron Day (Independent)\n",
    "- G16USSOWRI - Write-in Votes\n",
    "\n",
    "\n",
    "- G16GOVRSUN - Chris Sununu (Republican Party)\n",
    "- G16GOVDVAN - Colin Van Ostern (Democratic Party)\n",
    "- G16GOVLABR - Max Abramson (Libertarian Party)\n",
    "- G16GOVOWRI - Write-in Votes\n"
   ]
  },
  {
   "cell_type": "markdown",
   "metadata": {},
   "source": [
    "## Load VEST's Final File"
   ]
  },
  {
   "cell_type": "code",
   "execution_count": 2,
   "metadata": {},
   "outputs": [],
   "source": [
    "vest_shp = gp.read_file(\"./raw-from-source/VEST/nh_2016/nh_2016.shp\")"
   ]
  },
  {
   "cell_type": "code",
   "execution_count": 3,
   "metadata": {},
   "outputs": [
    {
     "data": {
      "text/plain": [
       "(321, 21)"
      ]
     },
     "execution_count": 3,
     "metadata": {},
     "output_type": "execute_result"
    }
   ],
   "source": [
    "vest_shp.shape"
   ]
  },
  {
   "cell_type": "code",
   "execution_count": 4,
   "metadata": {},
   "outputs": [
    {
     "data": {
      "text/html": [
       "<div>\n",
       "<style scoped>\n",
       "    .dataframe tbody tr th:only-of-type {\n",
       "        vertical-align: middle;\n",
       "    }\n",
       "\n",
       "    .dataframe tbody tr th {\n",
       "        vertical-align: top;\n",
       "    }\n",
       "\n",
       "    .dataframe thead th {\n",
       "        text-align: right;\n",
       "    }\n",
       "</style>\n",
       "<table border=\"1\" class=\"dataframe\">\n",
       "  <thead>\n",
       "    <tr style=\"text-align: right;\">\n",
       "      <th></th>\n",
       "      <th>STATEFP</th>\n",
       "      <th>COUNTYFP</th>\n",
       "      <th>VTDST</th>\n",
       "      <th>NAMELSAD</th>\n",
       "      <th>NAME</th>\n",
       "      <th>G16PRERTRU</th>\n",
       "      <th>G16PREDCLI</th>\n",
       "      <th>G16PRELJOH</th>\n",
       "      <th>G16PREGSTE</th>\n",
       "      <th>G16PREOFUE</th>\n",
       "      <th>...</th>\n",
       "      <th>G16USSRAYO</th>\n",
       "      <th>G16USSDHAS</th>\n",
       "      <th>G16USSLCHA</th>\n",
       "      <th>G16USSIDAY</th>\n",
       "      <th>G16USSOWRI</th>\n",
       "      <th>G16GOVRSUN</th>\n",
       "      <th>G16GOVDVAN</th>\n",
       "      <th>G16GOVLABR</th>\n",
       "      <th>G16GOVOWRI</th>\n",
       "      <th>geometry</th>\n",
       "    </tr>\n",
       "  </thead>\n",
       "  <tbody>\n",
       "    <tr>\n",
       "      <th>0</th>\n",
       "      <td>33</td>\n",
       "      <td>001</td>\n",
       "      <td>ALTO01</td>\n",
       "      <td>TOWN OF ALTON Voting District</td>\n",
       "      <td>TOWN OF ALTON</td>\n",
       "      <td>2201</td>\n",
       "      <td>1152</td>\n",
       "      <td>115</td>\n",
       "      <td>24</td>\n",
       "      <td>2</td>\n",
       "      <td>...</td>\n",
       "      <td>2204</td>\n",
       "      <td>1192</td>\n",
       "      <td>49</td>\n",
       "      <td>69</td>\n",
       "      <td>0</td>\n",
       "      <td>2166</td>\n",
       "      <td>1163</td>\n",
       "      <td>135</td>\n",
       "      <td>14</td>\n",
       "      <td>POLYGON Z ((-71.34362 43.62879 0.00000, -71.34...</td>\n",
       "    </tr>\n",
       "  </tbody>\n",
       "</table>\n",
       "<p>1 rows × 21 columns</p>\n",
       "</div>"
      ],
      "text/plain": [
       "  STATEFP COUNTYFP   VTDST                       NAMELSAD           NAME  \\\n",
       "0      33      001  ALTO01  TOWN OF ALTON Voting District  TOWN OF ALTON   \n",
       "\n",
       "   G16PRERTRU  G16PREDCLI  G16PRELJOH  G16PREGSTE  G16PREOFUE  ...  \\\n",
       "0        2201        1152         115          24           2  ...   \n",
       "\n",
       "   G16USSRAYO  G16USSDHAS  G16USSLCHA  G16USSIDAY  G16USSOWRI  G16GOVRSUN  \\\n",
       "0        2204        1192          49          69           0        2166   \n",
       "\n",
       "   G16GOVDVAN  G16GOVLABR  G16GOVOWRI  \\\n",
       "0        1163         135          14   \n",
       "\n",
       "                                            geometry  \n",
       "0  POLYGON Z ((-71.34362 43.62879 0.00000, -71.34...  \n",
       "\n",
       "[1 rows x 21 columns]"
      ]
     },
     "execution_count": 4,
     "metadata": {},
     "output_type": "execute_result"
    }
   ],
   "source": [
    "vest_shp.head(1)"
   ]
  },
  {
   "cell_type": "code",
   "execution_count": 5,
   "metadata": {},
   "outputs": [
    {
     "data": {
      "text/plain": [
       "<AxesSubplot:>"
      ]
     },
     "execution_count": 5,
     "metadata": {},
     "output_type": "execute_result"
    },
    {
     "data": {
      "image/png": "[encoded data removed]",
      "text/plain": [
       "<Figure size 432x288 with 1 Axes>"
      ]
     },
     "metadata": {
      "needs_background": "light"
     },
     "output_type": "display_data"
    }
   ],
   "source": [
    "vest_shp.boundary.plot()"
   ]
  },
  {
   "cell_type": "code",
   "execution_count": 6,
   "metadata": {},
   "outputs": [
    {
     "data": {
      "text/plain": [
       "Index(['STATEFP', 'COUNTYFP', 'VTDST', 'NAMELSAD', 'NAME', 'G16PRERTRU',\n",
       "       'G16PREDCLI', 'G16PRELJOH', 'G16PREGSTE', 'G16PREOFUE', 'G16PREOWRI',\n",
       "       'G16USSRAYO', 'G16USSDHAS', 'G16USSLCHA', 'G16USSIDAY', 'G16USSOWRI',\n",
       "       'G16GOVRSUN', 'G16GOVDVAN', 'G16GOVLABR', 'G16GOVOWRI', 'geometry'],\n",
       "      dtype='object')"
      ]
     },
     "execution_count": 6,
     "metadata": {},
     "output_type": "execute_result"
    }
   ],
   "source": [
    "vest_shp.columns"
   ]
  },
  {
   "cell_type": "markdown",
   "metadata": {},
   "source": [
    "# Loading, Combining Election Results"
   ]
  },
  {
   "cell_type": "markdown",
   "metadata": {},
   "source": [
    "## Load County Fips File"
   ]
  },
  {
   "cell_type": "code",
   "execution_count": 7,
   "metadata": {},
   "outputs": [],
   "source": [
    "#Load in the nationwide FIPS file\n",
    "fips_file = pd.read_csv(\"./raw-from-source/FIPS/US_FIPS_Codes.csv\")\n",
    "fips_file = fips_file[fips_file[\"State\"]==\"New Hampshire\"]\n",
    "fips_file[\"FIPS County\"]=fips_file[\"FIPS County\"].astype(str)\n",
    "\n",
    "#Make the FIPS three digits\n",
    "fips_file[\"FIPS County\"]=fips_file[\"FIPS County\"].str.zfill(3)\n",
    "\n",
    "#Create the dictionary\n",
    "fips_dict = dict(zip(fips_file[\"County Name\"],fips_file[\"FIPS County\"]))"
   ]
  },
  {
   "cell_type": "markdown",
   "metadata": {},
   "source": [
    "## Presidential Results"
   ]
  },
  {
   "cell_type": "markdown",
   "metadata": {},
   "source": [
    "Had to manually make separate Strafford and Sullivan files, which were combined. Also manually removed summary rows from Belknap county file. "
   ]
  },
  {
   "cell_type": "markdown",
   "metadata": {},
   "source": [
    "Reading in the presidential results in separate excel files: "
   ]
  },
  {
   "cell_type": "code",
   "execution_count": 8,
   "metadata": {},
   "outputs": [
    {
     "data": {
      "text/html": [
       "<div>\n",
       "<style scoped>\n",
       "    .dataframe tbody tr th:only-of-type {\n",
       "        vertical-align: middle;\n",
       "    }\n",
       "\n",
       "    .dataframe tbody tr th {\n",
       "        vertical-align: top;\n",
       "    }\n",
       "\n",
       "    .dataframe thead th {\n",
       "        text-align: right;\n",
       "    }\n",
       "</style>\n",
       "<table border=\"1\" class=\"dataframe\">\n",
       "  <thead>\n",
       "    <tr style=\"text-align: right;\">\n",
       "      <th></th>\n",
       "      <th>Precinct</th>\n",
       "      <th>G16PRERTRU</th>\n",
       "      <th>G16PREDCLI</th>\n",
       "      <th>G16PREGSTE</th>\n",
       "      <th>G16PREOFUE</th>\n",
       "      <th>G16PRELJOH</th>\n",
       "      <th>County</th>\n",
       "    </tr>\n",
       "  </thead>\n",
       "  <tbody>\n",
       "    <tr>\n",
       "      <th>2</th>\n",
       "      <td>Albany</td>\n",
       "      <td>182</td>\n",
       "      <td>195</td>\n",
       "      <td>7</td>\n",
       "      <td>2</td>\n",
       "      <td>13</td>\n",
       "      <td>Carroll</td>\n",
       "    </tr>\n",
       "    <tr>\n",
       "      <th>3</th>\n",
       "      <td>Bartlett</td>\n",
       "      <td>730</td>\n",
       "      <td>1094</td>\n",
       "      <td>21</td>\n",
       "      <td>0</td>\n",
       "      <td>84</td>\n",
       "      <td>Carroll</td>\n",
       "    </tr>\n",
       "    <tr>\n",
       "      <th>4</th>\n",
       "      <td>Brookfield</td>\n",
       "      <td>262</td>\n",
       "      <td>156</td>\n",
       "      <td>3</td>\n",
       "      <td>1</td>\n",
       "      <td>25</td>\n",
       "      <td>Carroll</td>\n",
       "    </tr>\n",
       "    <tr>\n",
       "      <th>5</th>\n",
       "      <td>Chatham</td>\n",
       "      <td>103</td>\n",
       "      <td>79</td>\n",
       "      <td>3</td>\n",
       "      <td>0</td>\n",
       "      <td>19</td>\n",
       "      <td>Carroll</td>\n",
       "    </tr>\n",
       "    <tr>\n",
       "      <th>6</th>\n",
       "      <td>Conway</td>\n",
       "      <td>2204</td>\n",
       "      <td>2717</td>\n",
       "      <td>57</td>\n",
       "      <td>2</td>\n",
       "      <td>209</td>\n",
       "      <td>Carroll</td>\n",
       "    </tr>\n",
       "  </tbody>\n",
       "</table>\n",
       "</div>"
      ],
      "text/plain": [
       "     Precinct G16PRERTRU G16PREDCLI G16PREGSTE G16PREOFUE G16PRELJOH   County\n",
       "2      Albany        182        195          7          2         13  Carroll\n",
       "3    Bartlett        730       1094         21          0         84  Carroll\n",
       "4  Brookfield        262        156          3          1         25  Carroll\n",
       "5     Chatham        103         79          3          0         19  Carroll\n",
       "6      Conway       2204       2717         57          2        209  Carroll"
      ]
     },
     "execution_count": 8,
     "metadata": {},
     "output_type": "execute_result"
    }
   ],
   "source": [
    "files = [x for x in os.listdir('./raw-from-source/SOS/general/') if 'president' in x and 'write-ins' not in x]\n",
    "\n",
    "df_list = []\n",
    "for f in files: \n",
    "    df = pd.read_excel('./raw-from-source/SOS/general/' + f)\n",
    "    df = df.dropna(how='all')\n",
    "    df['County'] = f.replace('president-','').replace('-2016-excel.xls','').replace('sum-and-','').capitalize()\n",
    "    df_list.append(df)\n",
    "pres_results = pd.concat(df_list, axis = 0, ignore_index = True)\n",
    "pres_results.columns = ['Precinct','G16PRERTRU','G16PREDCLI','G16PREGSTE','G16PREOFUE','G16PRELJOH','blank','scatter','County']\n",
    "pres_results['Precinct'] = pres_results['Precinct'].str.strip()\n",
    "pres_results = pres_results[(pres_results.Precinct != 'TOTALS') & \n",
    "                            (~pres_results.G16PRERTRU.str.contains(\"President\",na=False)) & \n",
    "                            (pres_results.scatter != 'Scatter') & \n",
    "                            (~pres_results.Precinct.str.contains(\"This is not\",na=False)) & \n",
    "                            (~pres_results.Precinct.str.contains(\"correction\",na=False)) & \n",
    "                            (pres_results.Precinct != '')]\n",
    "pres_results = pres_results.drop(columns = ['blank','scatter'],)\n",
    "pres_results['Precinct'] = pres_results['Precinct'].str.replace(r\"*\",\"\",regex=True)\n",
    "pres_results.head()"
   ]
  },
  {
   "cell_type": "code",
   "execution_count": 9,
   "metadata": {},
   "outputs": [
    {
     "data": {
      "text/plain": [
       "County\n",
       "Belknap          19315\n",
       "Carroll          14635\n",
       "Cheshire         16876\n",
       "Coos              7952\n",
       "Grafton          19010\n",
       "Hillsborough    100013\n",
       "Merrimack        37674\n",
       "Rockingham       90447\n",
       "Strafford        29072\n",
       "Sullivan         10796\n",
       "Name: G16PRERTRU, dtype: int64"
      ]
     },
     "execution_count": 9,
     "metadata": {},
     "output_type": "execute_result"
    }
   ],
   "source": [
    "pres_results.groupby('County')['G16PRERTRU'].sum()"
   ]
  },
  {
   "cell_type": "markdown",
   "metadata": {},
   "source": [
    "Reading in the write-in votes all in one excel file: "
   ]
  },
  {
   "cell_type": "code",
   "execution_count": 10,
   "metadata": {},
   "outputs": [
    {
     "data": {
      "text/html": [
       "<div>\n",
       "<style scoped>\n",
       "    .dataframe tbody tr th:only-of-type {\n",
       "        vertical-align: middle;\n",
       "    }\n",
       "\n",
       "    .dataframe tbody tr th {\n",
       "        vertical-align: top;\n",
       "    }\n",
       "\n",
       "    .dataframe thead th {\n",
       "        text-align: right;\n",
       "    }\n",
       "</style>\n",
       "<table border=\"1\" class=\"dataframe\">\n",
       "  <thead>\n",
       "    <tr style=\"text-align: right;\">\n",
       "      <th></th>\n",
       "      <th>Precinct</th>\n",
       "      <th>Biden, Joe</th>\n",
       "      <th>Booth, Chris</th>\n",
       "      <th>Bowhall, William</th>\n",
       "      <th>Brown, Dana</th>\n",
       "      <th>Buchanan, Robert</th>\n",
       "      <th>Bush, Jeb</th>\n",
       "      <th>Carlson, Steve</th>\n",
       "      <th>Carson, Ben</th>\n",
       "      <th>Christie, Chris</th>\n",
       "      <th>...</th>\n",
       "      <th>Rubio, Marco</th>\n",
       "      <th>Ryan, Paul</th>\n",
       "      <th>Sanders, Bernie</th>\n",
       "      <th>Slocum, Michelle</th>\n",
       "      <th>Smith, Coop</th>\n",
       "      <th>Supreme, Vermin</th>\n",
       "      <th>Tisdale, Lanny</th>\n",
       "      <th>Vakil, Kora Roberta Katz</th>\n",
       "      <th>Scatter</th>\n",
       "      <th>County</th>\n",
       "    </tr>\n",
       "  </thead>\n",
       "  <tbody>\n",
       "    <tr>\n",
       "      <th>2</th>\n",
       "      <td>Alton</td>\n",
       "      <td>NaN</td>\n",
       "      <td>NaN</td>\n",
       "      <td>NaN</td>\n",
       "      <td>NaN</td>\n",
       "      <td>NaN</td>\n",
       "      <td>NaN</td>\n",
       "      <td>NaN</td>\n",
       "      <td>NaN</td>\n",
       "      <td>NaN</td>\n",
       "      <td>...</td>\n",
       "      <td>NaN</td>\n",
       "      <td>NaN</td>\n",
       "      <td>10</td>\n",
       "      <td>NaN</td>\n",
       "      <td>NaN</td>\n",
       "      <td>NaN</td>\n",
       "      <td>NaN</td>\n",
       "      <td>NaN</td>\n",
       "      <td>23</td>\n",
       "      <td>Belknap</td>\n",
       "    </tr>\n",
       "    <tr>\n",
       "      <th>3</th>\n",
       "      <td>Barnstead</td>\n",
       "      <td>NaN</td>\n",
       "      <td>NaN</td>\n",
       "      <td>NaN</td>\n",
       "      <td>NaN</td>\n",
       "      <td>NaN</td>\n",
       "      <td>NaN</td>\n",
       "      <td>NaN</td>\n",
       "      <td>NaN</td>\n",
       "      <td>NaN</td>\n",
       "      <td>...</td>\n",
       "      <td>NaN</td>\n",
       "      <td>NaN</td>\n",
       "      <td>23</td>\n",
       "      <td>NaN</td>\n",
       "      <td>NaN</td>\n",
       "      <td>NaN</td>\n",
       "      <td>NaN</td>\n",
       "      <td>NaN</td>\n",
       "      <td>NaN</td>\n",
       "      <td>Belknap</td>\n",
       "    </tr>\n",
       "    <tr>\n",
       "      <th>4</th>\n",
       "      <td>Belmont</td>\n",
       "      <td>NaN</td>\n",
       "      <td>NaN</td>\n",
       "      <td>NaN</td>\n",
       "      <td>NaN</td>\n",
       "      <td>NaN</td>\n",
       "      <td>NaN</td>\n",
       "      <td>NaN</td>\n",
       "      <td>1</td>\n",
       "      <td>NaN</td>\n",
       "      <td>...</td>\n",
       "      <td>NaN</td>\n",
       "      <td>2</td>\n",
       "      <td>26</td>\n",
       "      <td>NaN</td>\n",
       "      <td>NaN</td>\n",
       "      <td>2</td>\n",
       "      <td>NaN</td>\n",
       "      <td>NaN</td>\n",
       "      <td>3</td>\n",
       "      <td>Belknap</td>\n",
       "    </tr>\n",
       "    <tr>\n",
       "      <th>5</th>\n",
       "      <td>Center Harbor</td>\n",
       "      <td>NaN</td>\n",
       "      <td>NaN</td>\n",
       "      <td>NaN</td>\n",
       "      <td>NaN</td>\n",
       "      <td>NaN</td>\n",
       "      <td>NaN</td>\n",
       "      <td>NaN</td>\n",
       "      <td>NaN</td>\n",
       "      <td>NaN</td>\n",
       "      <td>...</td>\n",
       "      <td>NaN</td>\n",
       "      <td>2</td>\n",
       "      <td>1</td>\n",
       "      <td>NaN</td>\n",
       "      <td>NaN</td>\n",
       "      <td>NaN</td>\n",
       "      <td>NaN</td>\n",
       "      <td>NaN</td>\n",
       "      <td>4</td>\n",
       "      <td>Belknap</td>\n",
       "    </tr>\n",
       "    <tr>\n",
       "      <th>6</th>\n",
       "      <td>Gilford</td>\n",
       "      <td>NaN</td>\n",
       "      <td>NaN</td>\n",
       "      <td>NaN</td>\n",
       "      <td>NaN</td>\n",
       "      <td>NaN</td>\n",
       "      <td>3</td>\n",
       "      <td>NaN</td>\n",
       "      <td>NaN</td>\n",
       "      <td>NaN</td>\n",
       "      <td>...</td>\n",
       "      <td>1</td>\n",
       "      <td>NaN</td>\n",
       "      <td>20</td>\n",
       "      <td>NaN</td>\n",
       "      <td>NaN</td>\n",
       "      <td>3</td>\n",
       "      <td>NaN</td>\n",
       "      <td>NaN</td>\n",
       "      <td>9</td>\n",
       "      <td>Belknap</td>\n",
       "    </tr>\n",
       "  </tbody>\n",
       "</table>\n",
       "<p>5 rows × 38 columns</p>\n",
       "</div>"
      ],
      "text/plain": [
       "        Precinct Biden, Joe Booth, Chris Bowhall, William Brown, Dana  \\\n",
       "2          Alton        NaN          NaN              NaN         NaN   \n",
       "3      Barnstead        NaN          NaN              NaN         NaN   \n",
       "4        Belmont        NaN          NaN              NaN         NaN   \n",
       "5  Center Harbor        NaN          NaN              NaN         NaN   \n",
       "6        Gilford        NaN          NaN              NaN         NaN   \n",
       "\n",
       "  Buchanan, Robert Bush, Jeb Carlson, Steve Carson, Ben Christie, Chris  ...  \\\n",
       "2              NaN       NaN            NaN         NaN             NaN  ...   \n",
       "3              NaN       NaN            NaN         NaN             NaN  ...   \n",
       "4              NaN       NaN            NaN           1             NaN  ...   \n",
       "5              NaN       NaN            NaN         NaN             NaN  ...   \n",
       "6              NaN         3            NaN         NaN             NaN  ...   \n",
       "\n",
       "  Rubio, Marco Ryan, Paul Sanders, Bernie Slocum, Michelle Smith, Coop  \\\n",
       "2          NaN        NaN              10              NaN         NaN   \n",
       "3          NaN        NaN              23              NaN         NaN   \n",
       "4          NaN          2              26              NaN         NaN   \n",
       "5          NaN          2               1              NaN         NaN   \n",
       "6            1        NaN              20              NaN         NaN   \n",
       "\n",
       "  Supreme, Vermin Tisdale, Lanny Vakil, Kora Roberta Katz Scatter   County  \n",
       "2             NaN            NaN                      NaN      23  Belknap  \n",
       "3             NaN            NaN                      NaN     NaN  Belknap  \n",
       "4               2            NaN                      NaN       3  Belknap  \n",
       "5             NaN            NaN                      NaN       4  Belknap  \n",
       "6               3            NaN                      NaN       9  Belknap  \n",
       "\n",
       "[5 rows x 38 columns]"
      ]
     },
     "execution_count": 10,
     "metadata": {},
     "output_type": "execute_result"
    }
   ],
   "source": [
    "write_ins = pd.ExcelFile('./raw-from-source/SOS/general/presidential-write-ins-2016-excel.xls')\n",
    "\n",
    "excel_tabs = {'BELKNAP':'Belknap','CARROLL':'Carroll','CHESHIRE':'Cheshire',\n",
    "              'COOS':'Coos','GRAFTON':'Grafton','HILLSBORO':'Hillsborough',\n",
    "              'MERRIMACK':'Merrimack','ROCKINGHAM':'Rockingham','STRAFFORD':'Strafford','SULLIVAN':'Sullivan'}\n",
    "df_list = []\n",
    "for tab in excel_tabs: \n",
    "    df = pd.read_excel(write_ins, tab)\n",
    "\n",
    "#     # Strip all object columns\n",
    "#     df.columns = ['column_'+str(x) for x in range(len(df.columns))]\n",
    "#     df['column_0'] = df['column_0'].apply(lambda x: x.str.strip())\n",
    "    df = df.dropna(how='all')\n",
    "    \n",
    "    df['County'] = excel_tabs[tab]\n",
    "    df.columns = [x for x in range(len(df.columns))]\n",
    "    df_list.append(df)\n",
    "write_ins = pd.concat(df_list, axis = 0, ignore_index = True)\n",
    "write_ins.columns = ['Precinct','Biden, Joe','Booth, Chris','Bowhall, William','Brown, Dana',\n",
    "                     'Buchanan, Robert','Bush, Jeb','Carlson, Steve','Carson, Ben','Christie, Chris',\n",
    "                     'Coyne, Thomas','Cruz, Ted','Duncan, Richard','Edgell, Richard','Fox, Cherunda',\n",
    "                     'Harrell, Sharon','Kasich, John','Kittington, Val','Legan, James','Li, Johnson',\n",
    "                     'Limbaugh, David','Locke, Star','McCain, John','McMullin, Evan','Morton, Carly',\n",
    "                     'Paul, Ron or Rand','Pence, Mike','Romney, Mitt','Rubio, Marco','Ryan, Paul',\n",
    "                     'Sanders, Bernie','Slocum, Michelle','Smith, Coop','Supreme, Vermin',\n",
    "                     'Tisdale, Lanny','Vakil, Kora Roberta Katz','Scatter','County']\n",
    "write_ins['Precinct'] = write_ins['Precinct'].str.strip()\n",
    "write_ins = write_ins[(write_ins.Precinct != 'Totals') & (write_ins.Precinct != 'TOTALS') &\n",
    "                      (~write_ins[\"Biden, Joe\"].str.contains(\"Biden\",na=False)) & \n",
    "                      (write_ins[\"Precinct\"] != datetime.datetime(2016, 11, 8, 0, 0)) &\n",
    "                      (write_ins.Scatter != 'Scatter') & (write_ins.Precinct != '')]\n",
    "write_ins.dropna(subset = ['Precinct'], inplace=True)\n",
    "write_ins.head()"
   ]
  },
  {
   "cell_type": "code",
   "execution_count": 11,
   "metadata": {},
   "outputs": [
    {
     "data": {
      "text/plain": [
       "County\n",
       "Belknap          91\n",
       "Carroll          93\n",
       "Cheshire        137\n",
       "Coos             66\n",
       "Grafton         217\n",
       "Hillsborough    720\n",
       "Merrimack       261\n",
       "Rockingham      620\n",
       "Strafford       161\n",
       "Sullivan         45\n",
       "Name: Scatter, dtype: int64"
      ]
     },
     "execution_count": 11,
     "metadata": {},
     "output_type": "execute_result"
    }
   ],
   "source": [
    "write_ins.groupby('County')['Scatter'].sum()"
   ]
  },
  {
   "cell_type": "markdown",
   "metadata": {},
   "source": [
    "## USS Results"
   ]
  },
  {
   "cell_type": "markdown",
   "metadata": {},
   "source": [
    "Manually removed the summary counts from the excel file. "
   ]
  },
  {
   "cell_type": "code",
   "execution_count": 12,
   "metadata": {},
   "outputs": [
    {
     "data": {
      "text/html": [
       "<div>\n",
       "<style scoped>\n",
       "    .dataframe tbody tr th:only-of-type {\n",
       "        vertical-align: middle;\n",
       "    }\n",
       "\n",
       "    .dataframe tbody tr th {\n",
       "        vertical-align: top;\n",
       "    }\n",
       "\n",
       "    .dataframe thead th {\n",
       "        text-align: right;\n",
       "    }\n",
       "</style>\n",
       "<table border=\"1\" class=\"dataframe\">\n",
       "  <thead>\n",
       "    <tr style=\"text-align: right;\">\n",
       "      <th></th>\n",
       "      <th>Precinct</th>\n",
       "      <th>G16USSRAYO</th>\n",
       "      <th>G16USSDHAS</th>\n",
       "      <th>G16USSLCHA</th>\n",
       "      <th>G16USSIDAY</th>\n",
       "      <th>G16USSOWRI</th>\n",
       "      <th>County</th>\n",
       "    </tr>\n",
       "  </thead>\n",
       "  <tbody>\n",
       "    <tr>\n",
       "      <th>2</th>\n",
       "      <td>Alton</td>\n",
       "      <td>2204</td>\n",
       "      <td>1192</td>\n",
       "      <td>49</td>\n",
       "      <td>69</td>\n",
       "      <td>NaN</td>\n",
       "      <td>Belknap</td>\n",
       "    </tr>\n",
       "    <tr>\n",
       "      <th>3</th>\n",
       "      <td>Barnstead</td>\n",
       "      <td>1454</td>\n",
       "      <td>1033</td>\n",
       "      <td>52</td>\n",
       "      <td>62</td>\n",
       "      <td>NaN</td>\n",
       "      <td>Belknap</td>\n",
       "    </tr>\n",
       "    <tr>\n",
       "      <th>4</th>\n",
       "      <td>Belmont</td>\n",
       "      <td>2008</td>\n",
       "      <td>1503</td>\n",
       "      <td>69</td>\n",
       "      <td>106</td>\n",
       "      <td>4</td>\n",
       "      <td>Belknap</td>\n",
       "    </tr>\n",
       "    <tr>\n",
       "      <th>5</th>\n",
       "      <td>Center Harbor</td>\n",
       "      <td>367</td>\n",
       "      <td>328</td>\n",
       "      <td>15</td>\n",
       "      <td>12</td>\n",
       "      <td>2</td>\n",
       "      <td>Belknap</td>\n",
       "    </tr>\n",
       "    <tr>\n",
       "      <th>6</th>\n",
       "      <td>Gilford</td>\n",
       "      <td>2497</td>\n",
       "      <td>2065</td>\n",
       "      <td>53</td>\n",
       "      <td>83</td>\n",
       "      <td>2</td>\n",
       "      <td>Belknap</td>\n",
       "    </tr>\n",
       "  </tbody>\n",
       "</table>\n",
       "</div>"
      ],
      "text/plain": [
       "        Precinct G16USSRAYO G16USSDHAS G16USSLCHA G16USSIDAY G16USSOWRI  \\\n",
       "2          Alton       2204       1192         49         69        NaN   \n",
       "3      Barnstead       1454       1033         52         62        NaN   \n",
       "4        Belmont       2008       1503         69        106          4   \n",
       "5  Center Harbor        367        328         15         12          2   \n",
       "6        Gilford       2497       2065         53         83          2   \n",
       "\n",
       "    County  \n",
       "2  Belknap  \n",
       "3  Belknap  \n",
       "4  Belknap  \n",
       "5  Belknap  \n",
       "6  Belknap  "
      ]
     },
     "execution_count": 12,
     "metadata": {},
     "output_type": "execute_result"
    }
   ],
   "source": [
    "uss_results = pd.ExcelFile('./raw-from-source/SOS/general/us-senator-2016.xls')\n",
    "\n",
    "excel_tabs = {'belkuss':'Belknap','carruss':'Carroll','chesuss':'Cheshire',\n",
    "              'coosuss':'Coos','grafuss':'Grafton','hilluss':'Hillsborough',\n",
    "              'merruss':'Merrimack','rockuss':'Rockingham','strauss':'Strafford','sulluss':'Sullivan'}\n",
    "df_list = []\n",
    "for tab in excel_tabs: \n",
    "    df = pd.read_excel(uss_results, tab)\n",
    "    df = df.dropna(how='all')    \n",
    "    df['County'] = excel_tabs[tab]\n",
    "    df.columns = [x for x in range(len(df.columns))]\n",
    "    df_list.append(df)\n",
    "uss_results = pd.concat(df_list, axis = 0, ignore_index = True)\n",
    "uss_results.columns = ['Precinct','G16USSRAYO','G16USSDHAS','G16USSLCHA','G16USSIDAY','G16USSOWRI','County']\n",
    "uss_results['Precinct'] = uss_results['Precinct'].str.strip()\n",
    "uss_results = uss_results[(uss_results.Precinct != 'Totals') & (uss_results.Precinct != 'TOTALS') &\n",
    "                      (~uss_results.Precinct.str.contains(\"correction\",na=False)) & \n",
    "                      (uss_results[\"Precinct\"] != datetime.datetime(2016, 11, 8, 0, 0)) &\n",
    "                      (uss_results.G16USSOWRI != 'Scatter') & (uss_results.Precinct != '')]\n",
    "uss_results['Precinct'] = uss_results['Precinct'].str.replace(r\"*\",\"\",regex=True)\n",
    "uss_results.dropna(subset = ['Precinct'], inplace=True)\n",
    "uss_results.head()"
   ]
  },
  {
   "cell_type": "code",
   "execution_count": 13,
   "metadata": {},
   "outputs": [
    {
     "data": {
      "text/plain": [
       "County\n",
       "Belknap          18710\n",
       "Carroll          14838\n",
       "Cheshire         16741\n",
       "Coos              7539\n",
       "Grafton          20679\n",
       "Hillsborough    105156\n",
       "Merrimack        38540\n",
       "Rockingham       91361\n",
       "Strafford        29419\n",
       "Sullivan         10649\n",
       "Name: G16USSRAYO, dtype: int64"
      ]
     },
     "execution_count": 13,
     "metadata": {},
     "output_type": "execute_result"
    }
   ],
   "source": [
    "uss_results.groupby('County')['G16USSRAYO'].sum()"
   ]
  },
  {
   "cell_type": "markdown",
   "metadata": {},
   "source": [
    "## Governor Results"
   ]
  },
  {
   "cell_type": "markdown",
   "metadata": {},
   "source": [
    "Manually split up the Strafford and Sullivan county sheets which were combined. Removed summary counts from Belknap sheet. "
   ]
  },
  {
   "cell_type": "markdown",
   "metadata": {},
   "source": [
    "Manually removed the summary counts from the excel file. "
   ]
  },
  {
   "cell_type": "code",
   "execution_count": 14,
   "metadata": {},
   "outputs": [
    {
     "data": {
      "text/html": [
       "<div>\n",
       "<style scoped>\n",
       "    .dataframe tbody tr th:only-of-type {\n",
       "        vertical-align: middle;\n",
       "    }\n",
       "\n",
       "    .dataframe tbody tr th {\n",
       "        vertical-align: top;\n",
       "    }\n",
       "\n",
       "    .dataframe thead th {\n",
       "        text-align: right;\n",
       "    }\n",
       "</style>\n",
       "<table border=\"1\" class=\"dataframe\">\n",
       "  <thead>\n",
       "    <tr style=\"text-align: right;\">\n",
       "      <th></th>\n",
       "      <th>Precinct</th>\n",
       "      <th>G16GOVRSUN</th>\n",
       "      <th>G16GOVDVAN</th>\n",
       "      <th>G16GOVLABR</th>\n",
       "      <th>G16GOVOWRI</th>\n",
       "      <th>County</th>\n",
       "    </tr>\n",
       "  </thead>\n",
       "  <tbody>\n",
       "    <tr>\n",
       "      <th>2</th>\n",
       "      <td>Allenstown</td>\n",
       "      <td>1080</td>\n",
       "      <td>965</td>\n",
       "      <td>115</td>\n",
       "      <td>14</td>\n",
       "      <td>Merrimack</td>\n",
       "    </tr>\n",
       "    <tr>\n",
       "      <th>3</th>\n",
       "      <td>Andover</td>\n",
       "      <td>626</td>\n",
       "      <td>728</td>\n",
       "      <td>51</td>\n",
       "      <td>3</td>\n",
       "      <td>Merrimack</td>\n",
       "    </tr>\n",
       "    <tr>\n",
       "      <th>4</th>\n",
       "      <td>Boscawen</td>\n",
       "      <td>868</td>\n",
       "      <td>872</td>\n",
       "      <td>81</td>\n",
       "      <td>6</td>\n",
       "      <td>Merrimack</td>\n",
       "    </tr>\n",
       "    <tr>\n",
       "      <th>5</th>\n",
       "      <td>Bow</td>\n",
       "      <td>2412</td>\n",
       "      <td>2446</td>\n",
       "      <td>148</td>\n",
       "      <td>7</td>\n",
       "      <td>Merrimack</td>\n",
       "    </tr>\n",
       "    <tr>\n",
       "      <th>6</th>\n",
       "      <td>Bradford</td>\n",
       "      <td>472</td>\n",
       "      <td>461</td>\n",
       "      <td>43</td>\n",
       "      <td>6</td>\n",
       "      <td>Merrimack</td>\n",
       "    </tr>\n",
       "  </tbody>\n",
       "</table>\n",
       "</div>"
      ],
      "text/plain": [
       "     Precinct G16GOVRSUN G16GOVDVAN G16GOVLABR G16GOVOWRI     County\n",
       "2  Allenstown       1080        965        115         14  Merrimack\n",
       "3     Andover        626        728         51          3  Merrimack\n",
       "4    Boscawen        868        872         81          6  Merrimack\n",
       "5         Bow       2412       2446        148          7  Merrimack\n",
       "6    Bradford        472        461         43          6  Merrimack"
      ]
     },
     "execution_count": 14,
     "metadata": {},
     "output_type": "execute_result"
    }
   ],
   "source": [
    "files = [x for x in os.listdir('./raw-from-source/SOS/general/') if 'gov' in x]\n",
    "\n",
    "df_list = []\n",
    "for f in files: \n",
    "    df = pd.read_excel('./raw-from-source/SOS/general/' + f)\n",
    "    df = df.dropna(how='all')\n",
    "    df['County'] = f.replace('governor-','').replace('-2016-excel.xls','').replace('summary-and-','').capitalize()\n",
    "    df_list.append(df)\n",
    "gov_results = pd.concat(df_list, axis = 0, ignore_index = True)\n",
    "gov_results.columns = ['Precinct','G16GOVRSUN','G16GOVDVAN','G16GOVLABR','G16GOVOWRI','County']\n",
    "gov_results['Precinct'] = gov_results['Precinct'].str.strip()\n",
    "gov_results = gov_results[(gov_results.Precinct != 'TOTALS') & \n",
    "                            (~gov_results.G16GOVRSUN.str.contains(\"Governor\",na=False)) & \n",
    "                            (gov_results.G16GOVOWRI != 'Scatter') & \n",
    "                            (~gov_results.Precinct.str.contains(\"This is not\",na=False)) & \n",
    "                            (~gov_results.Precinct.str.contains(\"correction\",na=False)) & \n",
    "                            (gov_results.Precinct != '')]\n",
    "gov_results['Precinct'] = gov_results['Precinct'].str.replace(r\"*\",\"\",regex=True)\n",
    "gov_results.head()"
   ]
  },
  {
   "cell_type": "code",
   "execution_count": 15,
   "metadata": {},
   "outputs": [
    {
     "data": {
      "text/plain": [
       "County\n",
       "Belknap          18798\n",
       "Carroll          15192\n",
       "Cheshire         17107\n",
       "Coos              7424\n",
       "Grafton          19685\n",
       "Hillsborough    103811\n",
       "Merrimack        37295\n",
       "Rockingham       94385\n",
       "Strafford        29578\n",
       "Sullivan         10765\n",
       "Name: G16GOVRSUN, dtype: int64"
      ]
     },
     "execution_count": 15,
     "metadata": {},
     "output_type": "execute_result"
    }
   ],
   "source": [
    "gov_results.groupby('County')['G16GOVRSUN'].sum()"
   ]
  },
  {
   "cell_type": "markdown",
   "metadata": {},
   "source": [
    "## Combine Results"
   ]
  },
  {
   "cell_type": "markdown",
   "metadata": {},
   "source": [
    "### Presidential results & write-ins"
   ]
  },
  {
   "cell_type": "code",
   "execution_count": 16,
   "metadata": {},
   "outputs": [
    {
     "name": "stdout",
     "output_type": "stream",
     "text": [
      "(320, 7) (320, 38)\n"
     ]
    }
   ],
   "source": [
    "print(pres_results.shape, write_ins.shape)"
   ]
  },
  {
   "cell_type": "code",
   "execution_count": 17,
   "metadata": {},
   "outputs": [
    {
     "data": {
      "text/plain": [
       "(322, 44)"
      ]
     },
     "metadata": {},
     "output_type": "display_data"
    },
    {
     "data": {
      "text/html": [
       "<div>\n",
       "<style scoped>\n",
       "    .dataframe tbody tr th:only-of-type {\n",
       "        vertical-align: middle;\n",
       "    }\n",
       "\n",
       "    .dataframe tbody tr th {\n",
       "        vertical-align: top;\n",
       "    }\n",
       "\n",
       "    .dataframe thead th {\n",
       "        text-align: right;\n",
       "    }\n",
       "</style>\n",
       "<table border=\"1\" class=\"dataframe\">\n",
       "  <thead>\n",
       "    <tr style=\"text-align: right;\">\n",
       "      <th></th>\n",
       "      <th>Precinct</th>\n",
       "      <th>County</th>\n",
       "      <th>_merge</th>\n",
       "    </tr>\n",
       "  </thead>\n",
       "  <tbody>\n",
       "    <tr>\n",
       "      <th>277</th>\n",
       "      <td>At. &amp; Gil. Academy Grant</td>\n",
       "      <td>Coos</td>\n",
       "      <td>left_only</td>\n",
       "    </tr>\n",
       "    <tr>\n",
       "      <th>320</th>\n",
       "      <td>Atkinson &amp; Gilmanton Academy Grant</td>\n",
       "      <td>Coos</td>\n",
       "      <td>right_only</td>\n",
       "    </tr>\n",
       "    <tr>\n",
       "      <th>310</th>\n",
       "      <td>Sargent's Purchase</td>\n",
       "      <td>Coos</td>\n",
       "      <td>left_only</td>\n",
       "    </tr>\n",
       "    <tr>\n",
       "      <th>321</th>\n",
       "      <td>Sargents Purchase</td>\n",
       "      <td>Coos</td>\n",
       "      <td>right_only</td>\n",
       "    </tr>\n",
       "  </tbody>\n",
       "</table>\n",
       "</div>"
      ],
      "text/plain": [
       "                               Precinct County      _merge\n",
       "277            At. & Gil. Academy Grant   Coos   left_only\n",
       "320  Atkinson & Gilmanton Academy Grant   Coos  right_only\n",
       "310                  Sargent's Purchase   Coos   left_only\n",
       "321                   Sargents Purchase   Coos  right_only"
      ]
     },
     "metadata": {},
     "output_type": "display_data"
    }
   ],
   "source": [
    "election_results = pres_results.merge(write_ins, how = 'outer', on = ['County','Precinct'], indicator = True)\n",
    "display(election_results.shape)\n",
    "display(election_results[election_results['_merge'] != 'both'][['Precinct','County','_merge']].sort_values(['County','Precinct']))"
   ]
  },
  {
   "cell_type": "code",
   "execution_count": 18,
   "metadata": {},
   "outputs": [],
   "source": [
    "write_ins.loc[write_ins.Precinct == 'Sargents Purchase', \"Precinct\"] = \"Sargent's Purchase\"\n",
    "write_ins.loc[write_ins.Precinct == 'Atkinson & Gilmanton Academy Grant', \"Precinct\"] = \"At. & Gil. Academy Grant\""
   ]
  },
  {
   "cell_type": "code",
   "execution_count": 19,
   "metadata": {},
   "outputs": [
    {
     "data": {
      "text/plain": [
       "(320, 44)"
      ]
     },
     "metadata": {},
     "output_type": "display_data"
    },
    {
     "data": {
      "text/html": [
       "<div>\n",
       "<style scoped>\n",
       "    .dataframe tbody tr th:only-of-type {\n",
       "        vertical-align: middle;\n",
       "    }\n",
       "\n",
       "    .dataframe tbody tr th {\n",
       "        vertical-align: top;\n",
       "    }\n",
       "\n",
       "    .dataframe thead th {\n",
       "        text-align: right;\n",
       "    }\n",
       "</style>\n",
       "<table border=\"1\" class=\"dataframe\">\n",
       "  <thead>\n",
       "    <tr style=\"text-align: right;\">\n",
       "      <th></th>\n",
       "      <th>Precinct</th>\n",
       "      <th>County</th>\n",
       "      <th>_merge</th>\n",
       "    </tr>\n",
       "  </thead>\n",
       "  <tbody>\n",
       "  </tbody>\n",
       "</table>\n",
       "</div>"
      ],
      "text/plain": [
       "Empty DataFrame\n",
       "Columns: [Precinct, County, _merge]\n",
       "Index: []"
      ]
     },
     "metadata": {},
     "output_type": "display_data"
    },
    {
     "data": {
      "text/html": [
       "<div>\n",
       "<style scoped>\n",
       "    .dataframe tbody tr th:only-of-type {\n",
       "        vertical-align: middle;\n",
       "    }\n",
       "\n",
       "    .dataframe tbody tr th {\n",
       "        vertical-align: top;\n",
       "    }\n",
       "\n",
       "    .dataframe thead th {\n",
       "        text-align: right;\n",
       "    }\n",
       "</style>\n",
       "<table border=\"1\" class=\"dataframe\">\n",
       "  <thead>\n",
       "    <tr style=\"text-align: right;\">\n",
       "      <th></th>\n",
       "      <th>Precinct</th>\n",
       "      <th>G16PRERTRU</th>\n",
       "      <th>G16PREDCLI</th>\n",
       "      <th>G16PREGSTE</th>\n",
       "      <th>G16PREOFUE</th>\n",
       "      <th>G16PRELJOH</th>\n",
       "      <th>County</th>\n",
       "      <th>Biden, Joe</th>\n",
       "      <th>Booth, Chris</th>\n",
       "      <th>Bowhall, William</th>\n",
       "      <th>...</th>\n",
       "      <th>Rubio, Marco</th>\n",
       "      <th>Ryan, Paul</th>\n",
       "      <th>Sanders, Bernie</th>\n",
       "      <th>Slocum, Michelle</th>\n",
       "      <th>Smith, Coop</th>\n",
       "      <th>Supreme, Vermin</th>\n",
       "      <th>Tisdale, Lanny</th>\n",
       "      <th>Vakil, Kora Roberta Katz</th>\n",
       "      <th>Scatter</th>\n",
       "      <th>_merge</th>\n",
       "    </tr>\n",
       "  </thead>\n",
       "  <tbody>\n",
       "    <tr>\n",
       "      <th>0</th>\n",
       "      <td>Albany</td>\n",
       "      <td>182</td>\n",
       "      <td>195</td>\n",
       "      <td>7</td>\n",
       "      <td>2</td>\n",
       "      <td>13</td>\n",
       "      <td>Carroll</td>\n",
       "      <td>NaN</td>\n",
       "      <td>NaN</td>\n",
       "      <td>NaN</td>\n",
       "      <td>...</td>\n",
       "      <td>NaN</td>\n",
       "      <td>NaN</td>\n",
       "      <td>8</td>\n",
       "      <td>NaN</td>\n",
       "      <td>NaN</td>\n",
       "      <td>1</td>\n",
       "      <td>NaN</td>\n",
       "      <td>NaN</td>\n",
       "      <td>2</td>\n",
       "      <td>both</td>\n",
       "    </tr>\n",
       "    <tr>\n",
       "      <th>1</th>\n",
       "      <td>Bartlett</td>\n",
       "      <td>730</td>\n",
       "      <td>1094</td>\n",
       "      <td>21</td>\n",
       "      <td>0</td>\n",
       "      <td>84</td>\n",
       "      <td>Carroll</td>\n",
       "      <td>NaN</td>\n",
       "      <td>NaN</td>\n",
       "      <td>NaN</td>\n",
       "      <td>...</td>\n",
       "      <td>1</td>\n",
       "      <td>NaN</td>\n",
       "      <td>16</td>\n",
       "      <td>NaN</td>\n",
       "      <td>NaN</td>\n",
       "      <td>1</td>\n",
       "      <td>NaN</td>\n",
       "      <td>NaN</td>\n",
       "      <td>1</td>\n",
       "      <td>both</td>\n",
       "    </tr>\n",
       "    <tr>\n",
       "      <th>2</th>\n",
       "      <td>Brookfield</td>\n",
       "      <td>262</td>\n",
       "      <td>156</td>\n",
       "      <td>3</td>\n",
       "      <td>1</td>\n",
       "      <td>25</td>\n",
       "      <td>Carroll</td>\n",
       "      <td>NaN</td>\n",
       "      <td>NaN</td>\n",
       "      <td>NaN</td>\n",
       "      <td>...</td>\n",
       "      <td>NaN</td>\n",
       "      <td>NaN</td>\n",
       "      <td>NaN</td>\n",
       "      <td>NaN</td>\n",
       "      <td>NaN</td>\n",
       "      <td>NaN</td>\n",
       "      <td>NaN</td>\n",
       "      <td>NaN</td>\n",
       "      <td>NaN</td>\n",
       "      <td>both</td>\n",
       "    </tr>\n",
       "    <tr>\n",
       "      <th>3</th>\n",
       "      <td>Chatham</td>\n",
       "      <td>103</td>\n",
       "      <td>79</td>\n",
       "      <td>3</td>\n",
       "      <td>0</td>\n",
       "      <td>19</td>\n",
       "      <td>Carroll</td>\n",
       "      <td>NaN</td>\n",
       "      <td>NaN</td>\n",
       "      <td>NaN</td>\n",
       "      <td>...</td>\n",
       "      <td>NaN</td>\n",
       "      <td>2</td>\n",
       "      <td>NaN</td>\n",
       "      <td>NaN</td>\n",
       "      <td>NaN</td>\n",
       "      <td>NaN</td>\n",
       "      <td>NaN</td>\n",
       "      <td>NaN</td>\n",
       "      <td>NaN</td>\n",
       "      <td>both</td>\n",
       "    </tr>\n",
       "    <tr>\n",
       "      <th>4</th>\n",
       "      <td>Conway</td>\n",
       "      <td>2204</td>\n",
       "      <td>2717</td>\n",
       "      <td>57</td>\n",
       "      <td>2</td>\n",
       "      <td>209</td>\n",
       "      <td>Carroll</td>\n",
       "      <td>NaN</td>\n",
       "      <td>NaN</td>\n",
       "      <td>NaN</td>\n",
       "      <td>...</td>\n",
       "      <td>NaN</td>\n",
       "      <td>9</td>\n",
       "      <td>42</td>\n",
       "      <td>NaN</td>\n",
       "      <td>NaN</td>\n",
       "      <td>NaN</td>\n",
       "      <td>NaN</td>\n",
       "      <td>NaN</td>\n",
       "      <td>9</td>\n",
       "      <td>both</td>\n",
       "    </tr>\n",
       "  </tbody>\n",
       "</table>\n",
       "<p>5 rows × 44 columns</p>\n",
       "</div>"
      ],
      "text/plain": [
       "     Precinct G16PRERTRU G16PREDCLI G16PREGSTE G16PREOFUE G16PRELJOH   County  \\\n",
       "0      Albany        182        195          7          2         13  Carroll   \n",
       "1    Bartlett        730       1094         21          0         84  Carroll   \n",
       "2  Brookfield        262        156          3          1         25  Carroll   \n",
       "3     Chatham        103         79          3          0         19  Carroll   \n",
       "4      Conway       2204       2717         57          2        209  Carroll   \n",
       "\n",
       "  Biden, Joe Booth, Chris Bowhall, William  ... Rubio, Marco Ryan, Paul  \\\n",
       "0        NaN          NaN              NaN  ...          NaN        NaN   \n",
       "1        NaN          NaN              NaN  ...            1        NaN   \n",
       "2        NaN          NaN              NaN  ...          NaN        NaN   \n",
       "3        NaN          NaN              NaN  ...          NaN          2   \n",
       "4        NaN          NaN              NaN  ...          NaN          9   \n",
       "\n",
       "  Sanders, Bernie Slocum, Michelle Smith, Coop Supreme, Vermin Tisdale, Lanny  \\\n",
       "0               8              NaN         NaN               1            NaN   \n",
       "1              16              NaN         NaN               1            NaN   \n",
       "2             NaN              NaN         NaN             NaN            NaN   \n",
       "3             NaN              NaN         NaN             NaN            NaN   \n",
       "4              42              NaN         NaN             NaN            NaN   \n",
       "\n",
       "  Vakil, Kora Roberta Katz Scatter _merge  \n",
       "0                      NaN       2   both  \n",
       "1                      NaN       1   both  \n",
       "2                      NaN     NaN   both  \n",
       "3                      NaN     NaN   both  \n",
       "4                      NaN       9   both  \n",
       "\n",
       "[5 rows x 44 columns]"
      ]
     },
     "execution_count": 19,
     "metadata": {},
     "output_type": "execute_result"
    }
   ],
   "source": [
    "election_results = pres_results.merge(write_ins, how = 'outer', on = ['County','Precinct'], indicator = True)\n",
    "display(election_results.shape)\n",
    "display(election_results[election_results['_merge'] != 'both'][['Precinct','County','_merge']].sort_values(['County','Precinct']))\n",
    "election_results.head()"
   ]
  },
  {
   "cell_type": "markdown",
   "metadata": {},
   "source": [
    "Is Scatter the write-in column? "
   ]
  },
  {
   "cell_type": "code",
   "execution_count": 20,
   "metadata": {},
   "outputs": [
    {
     "data": {
      "text/html": [
       "<div>\n",
       "<style scoped>\n",
       "    .dataframe tbody tr th:only-of-type {\n",
       "        vertical-align: middle;\n",
       "    }\n",
       "\n",
       "    .dataframe tbody tr th {\n",
       "        vertical-align: top;\n",
       "    }\n",
       "\n",
       "    .dataframe thead th {\n",
       "        text-align: right;\n",
       "    }\n",
       "</style>\n",
       "<table border=\"1\" class=\"dataframe\">\n",
       "  <thead>\n",
       "    <tr style=\"text-align: right;\">\n",
       "      <th></th>\n",
       "      <th>STATEFP</th>\n",
       "      <th>COUNTYFP</th>\n",
       "      <th>VTDST</th>\n",
       "      <th>NAMELSAD</th>\n",
       "      <th>NAME</th>\n",
       "      <th>G16PRERTRU</th>\n",
       "      <th>G16PREDCLI</th>\n",
       "      <th>G16PRELJOH</th>\n",
       "      <th>G16PREGSTE</th>\n",
       "      <th>G16PREOFUE</th>\n",
       "      <th>...</th>\n",
       "      <th>G16USSRAYO</th>\n",
       "      <th>G16USSDHAS</th>\n",
       "      <th>G16USSLCHA</th>\n",
       "      <th>G16USSIDAY</th>\n",
       "      <th>G16USSOWRI</th>\n",
       "      <th>G16GOVRSUN</th>\n",
       "      <th>G16GOVDVAN</th>\n",
       "      <th>G16GOVLABR</th>\n",
       "      <th>G16GOVOWRI</th>\n",
       "      <th>geometry</th>\n",
       "    </tr>\n",
       "  </thead>\n",
       "  <tbody>\n",
       "    <tr>\n",
       "      <th>0</th>\n",
       "      <td>33</td>\n",
       "      <td>001</td>\n",
       "      <td>ALTO01</td>\n",
       "      <td>TOWN OF ALTON Voting District</td>\n",
       "      <td>TOWN OF ALTON</td>\n",
       "      <td>2201</td>\n",
       "      <td>1152</td>\n",
       "      <td>115</td>\n",
       "      <td>24</td>\n",
       "      <td>2</td>\n",
       "      <td>...</td>\n",
       "      <td>2204</td>\n",
       "      <td>1192</td>\n",
       "      <td>49</td>\n",
       "      <td>69</td>\n",
       "      <td>0</td>\n",
       "      <td>2166</td>\n",
       "      <td>1163</td>\n",
       "      <td>135</td>\n",
       "      <td>14</td>\n",
       "      <td>POLYGON Z ((-71.34362 43.62879 0.00000, -71.34...</td>\n",
       "    </tr>\n",
       "  </tbody>\n",
       "</table>\n",
       "<p>1 rows × 21 columns</p>\n",
       "</div>"
      ],
      "text/plain": [
       "  STATEFP COUNTYFP   VTDST                       NAMELSAD           NAME  \\\n",
       "0      33      001  ALTO01  TOWN OF ALTON Voting District  TOWN OF ALTON   \n",
       "\n",
       "   G16PRERTRU  G16PREDCLI  G16PRELJOH  G16PREGSTE  G16PREOFUE  ...  \\\n",
       "0        2201        1152         115          24           2  ...   \n",
       "\n",
       "   G16USSRAYO  G16USSDHAS  G16USSLCHA  G16USSIDAY  G16USSOWRI  G16GOVRSUN  \\\n",
       "0        2204        1192          49          69           0        2166   \n",
       "\n",
       "   G16GOVDVAN  G16GOVLABR  G16GOVOWRI  \\\n",
       "0        1163         135          14   \n",
       "\n",
       "                                            geometry  \n",
       "0  POLYGON Z ((-71.34362 43.62879 0.00000, -71.34...  \n",
       "\n",
       "[1 rows x 21 columns]"
      ]
     },
     "execution_count": 20,
     "metadata": {},
     "output_type": "execute_result"
    }
   ],
   "source": [
    "vest_shp[vest_shp.NAME == 'TOWN OF ALTON']"
   ]
  },
  {
   "cell_type": "code",
   "execution_count": 21,
   "metadata": {},
   "outputs": [
    {
     "data": {
      "text/plain": [
       "Index(['Precinct', 'G16PRERTRU', 'G16PREDCLI', 'G16PREGSTE', 'G16PREOFUE',\n",
       "       'G16PRELJOH', 'County', 'Biden, Joe', 'Booth, Chris',\n",
       "       'Bowhall, William', 'Brown, Dana', 'Buchanan, Robert', 'Bush, Jeb',\n",
       "       'Carlson, Steve', 'Carson, Ben', 'Christie, Chris', 'Coyne, Thomas',\n",
       "       'Cruz, Ted', 'Duncan, Richard', 'Edgell, Richard', 'Fox, Cherunda',\n",
       "       'Harrell, Sharon', 'Kasich, John', 'Kittington, Val', 'Legan, James',\n",
       "       'Li, Johnson', 'Limbaugh, David', 'Locke, Star', 'McCain, John',\n",
       "       'McMullin, Evan', 'Morton, Carly', 'Paul, Ron or Rand', 'Pence, Mike',\n",
       "       'Romney, Mitt', 'Rubio, Marco', 'Ryan, Paul', 'Sanders, Bernie',\n",
       "       'Slocum, Michelle', 'Smith, Coop', 'Supreme, Vermin', 'Tisdale, Lanny',\n",
       "       'Vakil, Kora Roberta Katz', 'Scatter', '_merge'],\n",
       "      dtype='object')"
      ]
     },
     "execution_count": 21,
     "metadata": {},
     "output_type": "execute_result"
    }
   ],
   "source": [
    "election_results.columns"
   ]
  },
  {
   "cell_type": "code",
   "execution_count": 22,
   "metadata": {},
   "outputs": [],
   "source": [
    "cols = [x for x in election_results.columns if ',' in x or x == 'Scatter' or 'G16' in x]\n",
    "for c in cols: \n",
    "    election_results[c] = election_results[c].astype(float)\n",
    "    election_results[c] = election_results[c].fillna(0)\n",
    "    election_results[c] = election_results[c].astype(int)"
   ]
  },
  {
   "cell_type": "markdown",
   "metadata": {},
   "source": [
    "Write in are all of the results of all of the column names and Scatter combined. "
   ]
  },
  {
   "cell_type": "code",
   "execution_count": 23,
   "metadata": {},
   "outputs": [],
   "source": [
    "election_results['G16PREOWRI'] = election_results['Biden, Joe'] + election_results['Booth, Chris'] + election_results['Bowhall, William'] + election_results[ 'Brown, Dana'] + election_results[ 'Buchanan, Robert'] + election_results[ 'Bush, Jeb'] + election_results['Carlson, Steve'] + election_results[ 'Carson, Ben'] + election_results[ 'Christie, Chris'] + election_results[ 'Coyne, Thomas'] + election_results['Cruz, Ted'] + election_results[ 'Duncan, Richard'] + election_results[ 'Edgell, Richard'] + election_results[ 'Fox, Cherunda'] + election_results['Harrell, Sharon'] + election_results[ 'Kasich, John'] + election_results[ 'Kittington, Val'] + election_results[ 'Legan, James'] + election_results['Li, Johnson'] + election_results[ 'Limbaugh, David'] + election_results[ 'Locke, Star'] + election_results[ 'McCain, John'] + election_results['McMullin, Evan'] + election_results[ 'Morton, Carly'] + election_results[ 'Paul, Ron or Rand'] + election_results[ 'Pence, Mike'] + election_results['Romney, Mitt'] + election_results[ 'Rubio, Marco'] + election_results[ 'Ryan, Paul'] + election_results[ 'Sanders, Bernie'] + election_results['Slocum, Michelle'] + election_results[ 'Smith, Coop'] + election_results[ 'Supreme, Vermin'] + election_results[ 'Tisdale, Lanny'] + election_results['Vakil, Kora Roberta Katz'] + election_results['Scatter']"
   ]
  },
  {
   "cell_type": "code",
   "execution_count": 24,
   "metadata": {},
   "outputs": [],
   "source": [
    "cols = [x for x in election_results.columns if ',' in x]\n",
    "election_results.drop(columns = cols + ['_merge'], inplace = True)"
   ]
  },
  {
   "cell_type": "markdown",
   "metadata": {},
   "source": [
    "### Presidential & senate & governor"
   ]
  },
  {
   "cell_type": "code",
   "execution_count": 25,
   "metadata": {},
   "outputs": [
    {
     "data": {
      "text/plain": [
       "(320, 15)"
      ]
     },
     "metadata": {},
     "output_type": "display_data"
    },
    {
     "data": {
      "text/html": [
       "<div>\n",
       "<style scoped>\n",
       "    .dataframe tbody tr th:only-of-type {\n",
       "        vertical-align: middle;\n",
       "    }\n",
       "\n",
       "    .dataframe tbody tr th {\n",
       "        vertical-align: top;\n",
       "    }\n",
       "\n",
       "    .dataframe thead th {\n",
       "        text-align: right;\n",
       "    }\n",
       "</style>\n",
       "<table border=\"1\" class=\"dataframe\">\n",
       "  <thead>\n",
       "    <tr style=\"text-align: right;\">\n",
       "      <th></th>\n",
       "      <th>Precinct</th>\n",
       "      <th>County</th>\n",
       "      <th>_merge</th>\n",
       "    </tr>\n",
       "  </thead>\n",
       "  <tbody>\n",
       "  </tbody>\n",
       "</table>\n",
       "</div>"
      ],
      "text/plain": [
       "Empty DataFrame\n",
       "Columns: [Precinct, County, _merge]\n",
       "Index: []"
      ]
     },
     "metadata": {},
     "output_type": "display_data"
    }
   ],
   "source": [
    "election_results = election_results.merge(uss_results, how = 'outer', on = ['County','Precinct'], indicator = True)\n",
    "display(election_results.shape)\n",
    "display(election_results[election_results['_merge'] != 'both'][['Precinct','County','_merge']].sort_values(['County','Precinct']))"
   ]
  },
  {
   "cell_type": "code",
   "execution_count": 26,
   "metadata": {},
   "outputs": [
    {
     "data": {
      "text/plain": [
       "(320, 19)"
      ]
     },
     "metadata": {},
     "output_type": "display_data"
    },
    {
     "data": {
      "text/html": [
       "<div>\n",
       "<style scoped>\n",
       "    .dataframe tbody tr th:only-of-type {\n",
       "        vertical-align: middle;\n",
       "    }\n",
       "\n",
       "    .dataframe tbody tr th {\n",
       "        vertical-align: top;\n",
       "    }\n",
       "\n",
       "    .dataframe thead th {\n",
       "        text-align: right;\n",
       "    }\n",
       "</style>\n",
       "<table border=\"1\" class=\"dataframe\">\n",
       "  <thead>\n",
       "    <tr style=\"text-align: right;\">\n",
       "      <th></th>\n",
       "      <th>Precinct</th>\n",
       "      <th>County</th>\n",
       "      <th>_merge</th>\n",
       "    </tr>\n",
       "  </thead>\n",
       "  <tbody>\n",
       "  </tbody>\n",
       "</table>\n",
       "</div>"
      ],
      "text/plain": [
       "Empty DataFrame\n",
       "Columns: [Precinct, County, _merge]\n",
       "Index: []"
      ]
     },
     "metadata": {},
     "output_type": "display_data"
    }
   ],
   "source": [
    "election_results.drop(columns = ['_merge'], inplace = True)\n",
    "election_results = election_results.merge(gov_results, how = 'outer', on = ['County','Precinct'], indicator = True)\n",
    "display(election_results.shape)\n",
    "display(election_results[election_results['_merge'] != 'both'][['Precinct','County','_merge']].sort_values(['County','Precinct']))"
   ]
  },
  {
   "cell_type": "code",
   "execution_count": 27,
   "metadata": {},
   "outputs": [],
   "source": [
    "cols = [x for x in election_results.columns if 'G16' in x]\n",
    "for c in cols: \n",
    "    election_results[c] = election_results[c].astype(float)\n",
    "    election_results[c] = election_results[c].fillna(0)\n",
    "    election_results[c] = election_results[c].astype(int)"
   ]
  },
  {
   "cell_type": "markdown",
   "metadata": {},
   "source": [
    "# Validating Election Results"
   ]
  },
  {
   "cell_type": "markdown",
   "metadata": {},
   "source": [
    "## Race Totals"
   ]
  },
  {
   "cell_type": "code",
   "execution_count": 28,
   "metadata": {},
   "outputs": [
    {
     "data": {
      "text/plain": [
       "Index(['STATEFP', 'COUNTYFP', 'VTDST', 'NAMELSAD', 'NAME', 'G16PRERTRU',\n",
       "       'G16PREDCLI', 'G16PRELJOH', 'G16PREGSTE', 'G16PREOFUE', 'G16PREOWRI',\n",
       "       'G16USSRAYO', 'G16USSDHAS', 'G16USSLCHA', 'G16USSIDAY', 'G16USSOWRI',\n",
       "       'G16GOVRSUN', 'G16GOVDVAN', 'G16GOVLABR', 'G16GOVOWRI', 'geometry'],\n",
       "      dtype='object')"
      ]
     },
     "execution_count": 28,
     "metadata": {},
     "output_type": "execute_result"
    }
   ],
   "source": [
    "vest_shp.columns"
   ]
  },
  {
   "cell_type": "code",
   "execution_count": 29,
   "metadata": {},
   "outputs": [
    {
     "name": "stdout",
     "output_type": "stream",
     "text": [
      "***Statewide Totals Check***\n",
      "G16PRERTRU is equal \tVEST / RDH: 345790\n",
      "G16PREDCLI is equal \tVEST / RDH: 348526\n",
      "G16PRELJOH is equal \tVEST / RDH: 30777\n",
      "G16PREGSTE is equal \tVEST / RDH: 6496\n",
      "G16PREOFUE is equal \tVEST / RDH: 678\n",
      "G16PREOWRI is equal \tVEST / RDH: 12029\n",
      "G16USSRAYO is equal \tVEST / RDH: 353632\n",
      "G16USSDHAS is equal \tVEST / RDH: 354649\n",
      "G16USSLCHA is equal \tVEST / RDH: 12597\n",
      "G16USSIDAY is equal \tVEST / RDH: 17742\n",
      "G16USSOWRI is equal \tVEST / RDH: 520\n",
      "G16GOVRSUN is equal \tVEST / RDH: 354040\n",
      "G16GOVDVAN is equal \tVEST / RDH: 337589\n",
      "G16GOVLABR is equal \tVEST / RDH: 31243\n",
      "G16GOVOWRI is equal \tVEST / RDH: 1991\n"
     ]
    }
   ],
   "source": [
    "def statewide_totals_check(partner_df,source_df,column_list):\n",
    "    print(\"***Statewide Totals Check***\")\n",
    "    for race in column_list:\n",
    "        if (sum(partner_df[race])- source_df[race].sum() != 0):\n",
    "            print(race+\" has a difference of \"+str(sum(partner_df[race])-source_df[race].sum())+\" votes\")\n",
    "            print(\"\\tVEST: \"+str(sum(partner_df[race]))+\" votes\")\n",
    "            print(\"\\tSOURCES: \"+str(source_df[race].sum())+\" votes\")\n",
    "        else:\n",
    "            print(race + \" is equal\", \"\\tVEST / RDH: \" + str(sum(partner_df[race])))\n",
    "\n",
    "\n",
    "data_columns = ['G16PRERTRU',\n",
    "       'G16PREDCLI', 'G16PRELJOH', 'G16PREGSTE', 'G16PREOFUE', 'G16PREOWRI',\n",
    "       'G16USSRAYO', 'G16USSDHAS', 'G16USSLCHA', 'G16USSIDAY', 'G16USSOWRI',\n",
    "       'G16GOVRSUN', 'G16GOVDVAN', 'G16GOVLABR', 'G16GOVOWRI']\n",
    "\n",
    "statewide_totals_check(vest_shp, election_results, data_columns)"
   ]
  },
  {
   "cell_type": "markdown",
   "metadata": {},
   "source": [
    "## County-by-County Totals"
   ]
  },
  {
   "cell_type": "code",
   "execution_count": 30,
   "metadata": {},
   "outputs": [],
   "source": [
    "election_results['COUNTYFP'] = election_results['County'].map(fips_dict)"
   ]
  },
  {
   "cell_type": "code",
   "execution_count": 31,
   "metadata": {},
   "outputs": [
    {
     "name": "stdout",
     "output_type": "stream",
     "text": [
      "***Countywide Totals Check***\n",
      "\n",
      "G16PRERTRU is equal across all counties\n",
      "G16PREDCLI is equal across all counties\n",
      "G16PRELJOH is equal across all counties\n",
      "G16PREGSTE is equal across all counties\n",
      "G16PREOFUE is equal across all counties\n",
      "G16PREOWRI is equal across all counties\n",
      "G16USSRAYO is equal across all counties\n",
      "G16USSDHAS is equal across all counties\n",
      "G16USSLCHA is equal across all counties\n",
      "G16USSIDAY is equal across all counties\n",
      "G16USSOWRI is equal across all counties\n",
      "G16GOVRSUN is equal across all counties\n",
      "G16GOVDVAN is equal across all counties\n",
      "G16GOVLABR is equal across all counties\n",
      "G16GOVOWRI is equal across all counties\n"
     ]
    }
   ],
   "source": [
    "def county_totals_check(partner_df,source_df,column_list,county_col,full_print=False):\n",
    "    print(\"***Countywide Totals Check***\")\n",
    "    print(\"\")\n",
    "    diff_counties=[]\n",
    "    for race in column_list:\n",
    "        diff = partner_df.groupby([county_col]).sum()[race]-source_df.groupby([county_col]).sum()[race]\n",
    "        for val in diff[diff != 0].index.values.tolist():\n",
    "            if val not in diff_counties:\n",
    "                diff_counties.append(val)\n",
    "        if len(diff[diff != 0]!=0):   \n",
    "            print(race + \" contains differences in these counties:\")\n",
    "            for val in diff[diff != 0].index.values.tolist():\n",
    "                county_differences = diff[diff != 0]\n",
    "                print(\"\\t\"+val+\" has a difference of \"+str(county_differences[val])+\" votes\")\n",
    "                print(\"\\t\\tVEST: \"+str(partner_df.groupby([county_col]).sum().loc[val,race])+\" votes\")\n",
    "                print(\"\\t\\tSOURCES: \"+str(source_df.groupby([county_col]).sum().loc[val,race])+\" votes\")\n",
    "            if (full_print):\n",
    "                for val in diff[diff == 0].index.values.tolist():\n",
    "                    county_similarities = diff[diff == 0]\n",
    "                    print(\"\\t\"+val + \": \"+ str(partner_df.groupby([county_col]).sum().loc[val,race])+\" votes\")\n",
    "        else:\n",
    "            print(race + \" is equal across all counties\")\n",
    "            if (full_print):\n",
    "                for val in diff[diff == 0].index.values.tolist():\n",
    "                    county_similarities = diff[diff == 0]\n",
    "                    print(\"\\t\"+val + \": \"+ str(partner_df.groupby([county_col]).sum().loc[val,race])+\" votes\")\n",
    "\n",
    "\n",
    "               \n",
    "county_totals_check(vest_shp,election_results,data_columns,'COUNTYFP')"
   ]
  },
  {
   "cell_type": "markdown",
   "metadata": {},
   "source": [
    "## Precinct-by-Precinct Votes"
   ]
  },
  {
   "cell_type": "markdown",
   "metadata": {},
   "source": [
    "### Merge VEST and RDH"
   ]
  },
  {
   "cell_type": "markdown",
   "metadata": {},
   "source": [
    "#### Clean"
   ]
  },
  {
   "cell_type": "code",
   "execution_count": 32,
   "metadata": {},
   "outputs": [
    {
     "data": {
      "text/html": [
       "<div>\n",
       "<style scoped>\n",
       "    .dataframe tbody tr th:only-of-type {\n",
       "        vertical-align: middle;\n",
       "    }\n",
       "\n",
       "    .dataframe tbody tr th {\n",
       "        vertical-align: top;\n",
       "    }\n",
       "\n",
       "    .dataframe thead th {\n",
       "        text-align: right;\n",
       "    }\n",
       "</style>\n",
       "<table border=\"1\" class=\"dataframe\">\n",
       "  <thead>\n",
       "    <tr style=\"text-align: right;\">\n",
       "      <th></th>\n",
       "      <th>Precinct</th>\n",
       "      <th>G16PRERTRU</th>\n",
       "      <th>G16PREDCLI</th>\n",
       "      <th>G16PREGSTE</th>\n",
       "      <th>G16PREOFUE</th>\n",
       "      <th>G16PRELJOH</th>\n",
       "      <th>County</th>\n",
       "      <th>Scatter</th>\n",
       "      <th>G16PREOWRI</th>\n",
       "      <th>G16USSRAYO</th>\n",
       "      <th>G16USSDHAS</th>\n",
       "      <th>G16USSLCHA</th>\n",
       "      <th>G16USSIDAY</th>\n",
       "      <th>G16USSOWRI</th>\n",
       "      <th>G16GOVRSUN</th>\n",
       "      <th>G16GOVDVAN</th>\n",
       "      <th>G16GOVLABR</th>\n",
       "      <th>G16GOVOWRI</th>\n",
       "      <th>_merge</th>\n",
       "      <th>COUNTYFP</th>\n",
       "    </tr>\n",
       "  </thead>\n",
       "  <tbody>\n",
       "    <tr>\n",
       "      <th>78</th>\n",
       "      <td>Laconia Ward 4</td>\n",
       "      <td>632</td>\n",
       "      <td>490</td>\n",
       "      <td>19</td>\n",
       "      <td>3</td>\n",
       "      <td>53</td>\n",
       "      <td>Belknap</td>\n",
       "      <td>1</td>\n",
       "      <td>15</td>\n",
       "      <td>555</td>\n",
       "      <td>600</td>\n",
       "      <td>12</td>\n",
       "      <td>35</td>\n",
       "      <td>3</td>\n",
       "      <td>585</td>\n",
       "      <td>544</td>\n",
       "      <td>56</td>\n",
       "      <td>5</td>\n",
       "      <td>both</td>\n",
       "      <td>001</td>\n",
       "    </tr>\n",
       "    <tr>\n",
       "      <th>69</th>\n",
       "      <td>Alton</td>\n",
       "      <td>2201</td>\n",
       "      <td>1152</td>\n",
       "      <td>24</td>\n",
       "      <td>2</td>\n",
       "      <td>115</td>\n",
       "      <td>Belknap</td>\n",
       "      <td>23</td>\n",
       "      <td>49</td>\n",
       "      <td>2204</td>\n",
       "      <td>1192</td>\n",
       "      <td>49</td>\n",
       "      <td>69</td>\n",
       "      <td>0</td>\n",
       "      <td>2166</td>\n",
       "      <td>1163</td>\n",
       "      <td>135</td>\n",
       "      <td>14</td>\n",
       "      <td>both</td>\n",
       "      <td>001</td>\n",
       "    </tr>\n",
       "  </tbody>\n",
       "</table>\n",
       "</div>"
      ],
      "text/plain": [
       "          Precinct  G16PRERTRU  G16PREDCLI  G16PREGSTE  G16PREOFUE  \\\n",
       "78  Laconia Ward 4         632         490          19           3   \n",
       "69           Alton        2201        1152          24           2   \n",
       "\n",
       "    G16PRELJOH   County  Scatter  G16PREOWRI  G16USSRAYO  G16USSDHAS  \\\n",
       "78          53  Belknap        1          15         555         600   \n",
       "69         115  Belknap       23          49        2204        1192   \n",
       "\n",
       "    G16USSLCHA  G16USSIDAY  G16USSOWRI  G16GOVRSUN  G16GOVDVAN  G16GOVLABR  \\\n",
       "78          12          35           3         585         544          56   \n",
       "69          49          69           0        2166        1163         135   \n",
       "\n",
       "    G16GOVOWRI _merge COUNTYFP  \n",
       "78           5   both      001  \n",
       "69          14   both      001  "
      ]
     },
     "metadata": {},
     "output_type": "display_data"
    },
    {
     "data": {
      "text/html": [
       "<div>\n",
       "<style scoped>\n",
       "    .dataframe tbody tr th:only-of-type {\n",
       "        vertical-align: middle;\n",
       "    }\n",
       "\n",
       "    .dataframe tbody tr th {\n",
       "        vertical-align: top;\n",
       "    }\n",
       "\n",
       "    .dataframe thead th {\n",
       "        text-align: right;\n",
       "    }\n",
       "</style>\n",
       "<table border=\"1\" class=\"dataframe\">\n",
       "  <thead>\n",
       "    <tr style=\"text-align: right;\">\n",
       "      <th></th>\n",
       "      <th>STATEFP</th>\n",
       "      <th>COUNTYFP</th>\n",
       "      <th>VTDST</th>\n",
       "      <th>NAMELSAD</th>\n",
       "      <th>NAME</th>\n",
       "      <th>G16PRERTRU</th>\n",
       "      <th>G16PREDCLI</th>\n",
       "      <th>G16PRELJOH</th>\n",
       "      <th>G16PREGSTE</th>\n",
       "      <th>G16PREOFUE</th>\n",
       "      <th>...</th>\n",
       "      <th>G16USSRAYO</th>\n",
       "      <th>G16USSDHAS</th>\n",
       "      <th>G16USSLCHA</th>\n",
       "      <th>G16USSIDAY</th>\n",
       "      <th>G16USSOWRI</th>\n",
       "      <th>G16GOVRSUN</th>\n",
       "      <th>G16GOVDVAN</th>\n",
       "      <th>G16GOVLABR</th>\n",
       "      <th>G16GOVOWRI</th>\n",
       "      <th>geometry</th>\n",
       "    </tr>\n",
       "  </thead>\n",
       "  <tbody>\n",
       "    <tr>\n",
       "      <th>0</th>\n",
       "      <td>33</td>\n",
       "      <td>001</td>\n",
       "      <td>ALTO01</td>\n",
       "      <td>TOWN OF ALTON Voting District</td>\n",
       "      <td>TOWN OF ALTON</td>\n",
       "      <td>2201</td>\n",
       "      <td>1152</td>\n",
       "      <td>115</td>\n",
       "      <td>24</td>\n",
       "      <td>2</td>\n",
       "      <td>...</td>\n",
       "      <td>2204</td>\n",
       "      <td>1192</td>\n",
       "      <td>49</td>\n",
       "      <td>69</td>\n",
       "      <td>0</td>\n",
       "      <td>2166</td>\n",
       "      <td>1163</td>\n",
       "      <td>135</td>\n",
       "      <td>14</td>\n",
       "      <td>POLYGON Z ((-71.34362 43.62879 0.00000, -71.34...</td>\n",
       "    </tr>\n",
       "    <tr>\n",
       "      <th>318</th>\n",
       "      <td>33</td>\n",
       "      <td>001</td>\n",
       "      <td>LACO03</td>\n",
       "      <td>LACONIA WARD 3</td>\n",
       "      <td>LACONIA WARD 3</td>\n",
       "      <td>604</td>\n",
       "      <td>637</td>\n",
       "      <td>49</td>\n",
       "      <td>12</td>\n",
       "      <td>0</td>\n",
       "      <td>...</td>\n",
       "      <td>629</td>\n",
       "      <td>658</td>\n",
       "      <td>21</td>\n",
       "      <td>21</td>\n",
       "      <td>4</td>\n",
       "      <td>625</td>\n",
       "      <td>628</td>\n",
       "      <td>49</td>\n",
       "      <td>1</td>\n",
       "      <td>POLYGON Z ((-71.51071 43.54764 0.00000, -71.51...</td>\n",
       "    </tr>\n",
       "  </tbody>\n",
       "</table>\n",
       "<p>2 rows × 21 columns</p>\n",
       "</div>"
      ],
      "text/plain": [
       "    STATEFP COUNTYFP   VTDST                       NAMELSAD            NAME  \\\n",
       "0        33      001  ALTO01  TOWN OF ALTON Voting District   TOWN OF ALTON   \n",
       "318      33      001  LACO03                 LACONIA WARD 3  LACONIA WARD 3   \n",
       "\n",
       "     G16PRERTRU  G16PREDCLI  G16PRELJOH  G16PREGSTE  G16PREOFUE  ...  \\\n",
       "0          2201        1152         115          24           2  ...   \n",
       "318         604         637          49          12           0  ...   \n",
       "\n",
       "     G16USSRAYO  G16USSDHAS  G16USSLCHA  G16USSIDAY  G16USSOWRI  G16GOVRSUN  \\\n",
       "0          2204        1192          49          69           0        2166   \n",
       "318         629         658          21          21           4         625   \n",
       "\n",
       "     G16GOVDVAN  G16GOVLABR  G16GOVOWRI  \\\n",
       "0          1163         135          14   \n",
       "318         628          49           1   \n",
       "\n",
       "                                              geometry  \n",
       "0    POLYGON Z ((-71.34362 43.62879 0.00000, -71.34...  \n",
       "318  POLYGON Z ((-71.51071 43.54764 0.00000, -71.51...  \n",
       "\n",
       "[2 rows x 21 columns]"
      ]
     },
     "metadata": {},
     "output_type": "display_data"
    }
   ],
   "source": [
    "display(election_results.sort_values('COUNTYFP').head(2))\n",
    "display(vest_shp.sort_values('COUNTYFP').head(2))"
   ]
  },
  {
   "cell_type": "code",
   "execution_count": 33,
   "metadata": {},
   "outputs": [
    {
     "data": {
      "text/plain": [
       "321"
      ]
     },
     "execution_count": 33,
     "metadata": {},
     "output_type": "execute_result"
    }
   ],
   "source": [
    "len(vest_shp['NAME'].unique())"
   ]
  },
  {
   "cell_type": "code",
   "execution_count": 34,
   "metadata": {},
   "outputs": [
    {
     "data": {
      "text/plain": [
       "320"
      ]
     },
     "execution_count": 34,
     "metadata": {},
     "output_type": "execute_result"
    }
   ],
   "source": [
    "len(election_results['Precinct'].unique())"
   ]
  },
  {
   "cell_type": "code",
   "execution_count": 35,
   "metadata": {},
   "outputs": [],
   "source": [
    "vest_shp['join_col'] = vest_shp['COUNTYFP'] + vest_shp['NAME'].str.replace('TOWN OF ','').str.replace('TOWNSHIP OF ','').str.lower()\n",
    "election_results['join_col'] = election_results['COUNTYFP'] + election_results['Precinct'].str.replace(\"'\",\"\").str.lower()"
   ]
  },
  {
   "cell_type": "code",
   "execution_count": 36,
   "metadata": {},
   "outputs": [],
   "source": [
    "election_results.drop(columns = ['_merge'], inplace = True)"
   ]
  },
  {
   "cell_type": "markdown",
   "metadata": {},
   "source": [
    "#### Join Attempt #1"
   ]
  },
  {
   "cell_type": "code",
   "execution_count": 37,
   "metadata": {},
   "outputs": [
    {
     "data": {
      "text/html": [
       "<div>\n",
       "<style scoped>\n",
       "    .dataframe tbody tr th:only-of-type {\n",
       "        vertical-align: middle;\n",
       "    }\n",
       "\n",
       "    .dataframe tbody tr th {\n",
       "        vertical-align: top;\n",
       "    }\n",
       "\n",
       "    .dataframe thead th {\n",
       "        text-align: right;\n",
       "    }\n",
       "</style>\n",
       "<table border=\"1\" class=\"dataframe\">\n",
       "  <thead>\n",
       "    <tr style=\"text-align: right;\">\n",
       "      <th></th>\n",
       "      <th>join_col</th>\n",
       "      <th>County</th>\n",
       "      <th>_merge</th>\n",
       "    </tr>\n",
       "  </thead>\n",
       "  <tbody>\n",
       "    <tr>\n",
       "      <th>57</th>\n",
       "      <td>007atkinson and gilmanton academy grant</td>\n",
       "      <td>NaN</td>\n",
       "      <td>left_only</td>\n",
       "    </tr>\n",
       "    <tr>\n",
       "      <th>81</th>\n",
       "      <td>007low and burbanks grant</td>\n",
       "      <td>NaN</td>\n",
       "      <td>left_only</td>\n",
       "    </tr>\n",
       "    <tr>\n",
       "      <th>96</th>\n",
       "      <td>007thompson and meserves purchase</td>\n",
       "      <td>NaN</td>\n",
       "      <td>left_only</td>\n",
       "    </tr>\n",
       "    <tr>\n",
       "      <th>97</th>\n",
       "      <td>007wentworth location</td>\n",
       "      <td>NaN</td>\n",
       "      <td>left_only</td>\n",
       "    </tr>\n",
       "    <tr>\n",
       "      <th>268</th>\n",
       "      <td>015not defined</td>\n",
       "      <td>NaN</td>\n",
       "      <td>left_only</td>\n",
       "    </tr>\n",
       "    <tr>\n",
       "      <th>314</th>\n",
       "      <td>007berlin wards 1-3</td>\n",
       "      <td>NaN</td>\n",
       "      <td>left_only</td>\n",
       "    </tr>\n",
       "    <tr>\n",
       "      <th>315</th>\n",
       "      <td>015derry wards 1-4</td>\n",
       "      <td>NaN</td>\n",
       "      <td>left_only</td>\n",
       "    </tr>\n",
       "    <tr>\n",
       "      <th>321</th>\n",
       "      <td>015derry</td>\n",
       "      <td>Rockingham</td>\n",
       "      <td>right_only</td>\n",
       "    </tr>\n",
       "    <tr>\n",
       "      <th>322</th>\n",
       "      <td>007at. &amp; gil. academy grant</td>\n",
       "      <td>Coos</td>\n",
       "      <td>right_only</td>\n",
       "    </tr>\n",
       "    <tr>\n",
       "      <th>323</th>\n",
       "      <td>007berlin</td>\n",
       "      <td>Coos</td>\n",
       "      <td>right_only</td>\n",
       "    </tr>\n",
       "    <tr>\n",
       "      <th>324</th>\n",
       "      <td>007low &amp; burbanks grant</td>\n",
       "      <td>Coos</td>\n",
       "      <td>right_only</td>\n",
       "    </tr>\n",
       "    <tr>\n",
       "      <th>325</th>\n",
       "      <td>007thompson &amp; meserves pur.</td>\n",
       "      <td>Coos</td>\n",
       "      <td>right_only</td>\n",
       "    </tr>\n",
       "    <tr>\n",
       "      <th>326</th>\n",
       "      <td>007wentworths location</td>\n",
       "      <td>Coos</td>\n",
       "      <td>right_only</td>\n",
       "    </tr>\n",
       "  </tbody>\n",
       "</table>\n",
       "</div>"
      ],
      "text/plain": [
       "                                    join_col      County      _merge\n",
       "57   007atkinson and gilmanton academy grant         NaN   left_only\n",
       "81                 007low and burbanks grant         NaN   left_only\n",
       "96         007thompson and meserves purchase         NaN   left_only\n",
       "97                     007wentworth location         NaN   left_only\n",
       "268                           015not defined         NaN   left_only\n",
       "314                      007berlin wards 1-3         NaN   left_only\n",
       "315                       015derry wards 1-4         NaN   left_only\n",
       "321                                 015derry  Rockingham  right_only\n",
       "322              007at. & gil. academy grant        Coos  right_only\n",
       "323                                007berlin        Coos  right_only\n",
       "324                  007low & burbanks grant        Coos  right_only\n",
       "325              007thompson & meserves pur.        Coos  right_only\n",
       "326                   007wentworths location        Coos  right_only"
      ]
     },
     "execution_count": 37,
     "metadata": {},
     "output_type": "execute_result"
    }
   ],
   "source": [
    "merge_df = vest_shp.merge(election_results, how = 'outer', on = 'join_col', indicator = True)\n",
    "merge_df[merge_df['_merge'] != 'both'][['join_col','County','_merge']]"
   ]
  },
  {
   "cell_type": "code",
   "execution_count": 38,
   "metadata": {},
   "outputs": [],
   "source": [
    "election_results.loc[election_results['join_col'] == \"015derry\", 'join_col'] = \"015derry wards 1-4\"\n",
    "election_results.loc[election_results['join_col'] == \"007at. & gil. academy grant\", 'join_col'] = \"007atkinson and gilmanton academy grant\"\n",
    "election_results.loc[election_results['join_col'] == \"007berlin\", 'join_col'] = \"007berlin wards 1-3\"\n",
    "election_results.loc[election_results['join_col'] == \"007low & burbanks grant\", 'join_col'] = \"007low and burbanks grant\"\n",
    "election_results.loc[election_results['join_col'] == \"007thompson & meserves pur.\", 'join_col'] = \"007thompson and meserves purchase\"\n",
    "election_results.loc[election_results['join_col'] == \"007wentworths location\", 'join_col'] = \"007wentworth location\""
   ]
  },
  {
   "cell_type": "markdown",
   "metadata": {},
   "source": [
    "#### Join Attempt #2"
   ]
  },
  {
   "cell_type": "code",
   "execution_count": 39,
   "metadata": {},
   "outputs": [
    {
     "data": {
      "text/html": [
       "<div>\n",
       "<style scoped>\n",
       "    .dataframe tbody tr th:only-of-type {\n",
       "        vertical-align: middle;\n",
       "    }\n",
       "\n",
       "    .dataframe tbody tr th {\n",
       "        vertical-align: top;\n",
       "    }\n",
       "\n",
       "    .dataframe thead th {\n",
       "        text-align: right;\n",
       "    }\n",
       "</style>\n",
       "<table border=\"1\" class=\"dataframe\">\n",
       "  <thead>\n",
       "    <tr style=\"text-align: right;\">\n",
       "      <th></th>\n",
       "      <th>join_col</th>\n",
       "      <th>County</th>\n",
       "    </tr>\n",
       "  </thead>\n",
       "  <tbody>\n",
       "    <tr>\n",
       "      <th>268</th>\n",
       "      <td>015not defined</td>\n",
       "      <td>NaN</td>\n",
       "    </tr>\n",
       "  </tbody>\n",
       "</table>\n",
       "</div>"
      ],
      "text/plain": [
       "           join_col County\n",
       "268  015not defined    NaN"
      ]
     },
     "execution_count": 39,
     "metadata": {},
     "output_type": "execute_result"
    }
   ],
   "source": [
    "merge_df = vest_shp.merge(election_results, how = 'outer', on = 'join_col', indicator = True)\n",
    "merge_df[merge_df['_merge'] != 'both'][['join_col','County']]"
   ]
  },
  {
   "cell_type": "code",
   "execution_count": 40,
   "metadata": {},
   "outputs": [
    {
     "data": {
      "text/html": [
       "<div>\n",
       "<style scoped>\n",
       "    .dataframe tbody tr th:only-of-type {\n",
       "        vertical-align: middle;\n",
       "    }\n",
       "\n",
       "    .dataframe tbody tr th {\n",
       "        vertical-align: top;\n",
       "    }\n",
       "\n",
       "    .dataframe thead th {\n",
       "        text-align: right;\n",
       "    }\n",
       "</style>\n",
       "<table border=\"1\" class=\"dataframe\">\n",
       "  <thead>\n",
       "    <tr style=\"text-align: right;\">\n",
       "      <th></th>\n",
       "      <th>STATEFP</th>\n",
       "      <th>COUNTYFP</th>\n",
       "      <th>VTDST</th>\n",
       "      <th>NAMELSAD</th>\n",
       "      <th>NAME</th>\n",
       "      <th>G16PRERTRU</th>\n",
       "      <th>G16PREDCLI</th>\n",
       "      <th>G16PRELJOH</th>\n",
       "      <th>G16PREGSTE</th>\n",
       "      <th>G16PREOFUE</th>\n",
       "      <th>...</th>\n",
       "      <th>G16USSDHAS</th>\n",
       "      <th>G16USSLCHA</th>\n",
       "      <th>G16USSIDAY</th>\n",
       "      <th>G16USSOWRI</th>\n",
       "      <th>G16GOVRSUN</th>\n",
       "      <th>G16GOVDVAN</th>\n",
       "      <th>G16GOVLABR</th>\n",
       "      <th>G16GOVOWRI</th>\n",
       "      <th>geometry</th>\n",
       "      <th>join_col</th>\n",
       "    </tr>\n",
       "  </thead>\n",
       "  <tbody>\n",
       "    <tr>\n",
       "      <th>268</th>\n",
       "      <td>33</td>\n",
       "      <td>015</td>\n",
       "      <td>ZZZZZZ</td>\n",
       "      <td>not defined</td>\n",
       "      <td>not defined</td>\n",
       "      <td>0</td>\n",
       "      <td>0</td>\n",
       "      <td>0</td>\n",
       "      <td>0</td>\n",
       "      <td>0</td>\n",
       "      <td>...</td>\n",
       "      <td>0</td>\n",
       "      <td>0</td>\n",
       "      <td>0</td>\n",
       "      <td>0</td>\n",
       "      <td>0</td>\n",
       "      <td>0</td>\n",
       "      <td>0</td>\n",
       "      <td>0</td>\n",
       "      <td>MULTIPOLYGON Z (((-70.69464 42.95636 0.00000, ...</td>\n",
       "      <td>015not defined</td>\n",
       "    </tr>\n",
       "  </tbody>\n",
       "</table>\n",
       "<p>1 rows × 22 columns</p>\n",
       "</div>"
      ],
      "text/plain": [
       "    STATEFP COUNTYFP   VTDST     NAMELSAD         NAME  G16PRERTRU  \\\n",
       "268      33      015  ZZZZZZ  not defined  not defined           0   \n",
       "\n",
       "     G16PREDCLI  G16PRELJOH  G16PREGSTE  G16PREOFUE  ...  G16USSDHAS  \\\n",
       "268           0           0           0           0  ...           0   \n",
       "\n",
       "     G16USSLCHA  G16USSIDAY  G16USSOWRI  G16GOVRSUN  G16GOVDVAN  G16GOVLABR  \\\n",
       "268           0           0           0           0           0           0   \n",
       "\n",
       "     G16GOVOWRI                                           geometry  \\\n",
       "268           0  MULTIPOLYGON Z (((-70.69464 42.95636 0.00000, ...   \n",
       "\n",
       "           join_col  \n",
       "268  015not defined  \n",
       "\n",
       "[1 rows x 22 columns]"
      ]
     },
     "execution_count": 40,
     "metadata": {},
     "output_type": "execute_result"
    }
   ],
   "source": [
    "vest_shp[vest_shp['join_col'] == '015not defined']"
   ]
  },
  {
   "cell_type": "markdown",
   "metadata": {},
   "source": [
    "### Validate"
   ]
  },
  {
   "cell_type": "code",
   "execution_count": 41,
   "metadata": {},
   "outputs": [],
   "source": [
    "def precinct_votes_check(merged_df,column_list,vest_on_left,name_col,print_level=0):\n",
    "    merged_df = merged_df.sort_values(by=[name_col],inplace=False)\n",
    "    matching_rows = 0\n",
    "    different_rows = 0\n",
    "    diff_list=[]\n",
    "    diff_values = []\n",
    "    max_diff = 0\n",
    "    for index,row in merged_df.iterrows():\n",
    "        same = True\n",
    "        for i in column_list:\n",
    "            left_data = i + \"_x\"\n",
    "            right_data = i + \"_y\"\n",
    "            if ((row[left_data] is None) or (row[right_data] is None) or (np.isnan(row[right_data])or(np.isnan(row[left_data])))):\n",
    "                print(\"FIX NaN value at: \", row[name_col])\n",
    "                return;\n",
    "            diff = abs(row[left_data]-row[right_data])\n",
    "            if (diff>0):\n",
    "                same = False\n",
    "                diff_values.append(abs(diff))\n",
    "                if (diff>max_diff):\n",
    "                    max_diff = diff\n",
    "            if(diff>print_level):\n",
    "                if (vest_on_left):\n",
    "                    print(i, \"{:.>72}\".format(row[name_col]), \"(V)\",\"{:.>5}\".format(int(row[left_data])),\" (S){:.>5}\".format(int(row[right_data])),\"(D):{:>5}\".format(int(row[left_data]-row[right_data])))                           \n",
    "                else:\n",
    "                    print(i, \"{:.>72}\".format(row[name_col]), \"(S)\",\"{:.>5}\".format(int(row[left_data])),\" (V){:.>5}\".format(int(row[right_data])),\"(D):{:>5}\".format(int(row[left_data]-row[right_data])))\n",
    "        if(same != True):\n",
    "            different_rows +=1\n",
    "            diff_list.append(row[name_col])\n",
    "        else:\n",
    "            matching_rows +=1\n",
    "    print(\"\")\n",
    "    print(\"There are \", len(merged_df.index),\" total rows\")\n",
    "    print(different_rows,\" of these rows have election result differences\")\n",
    "    print(matching_rows,\" of these rows are the same\")\n",
    "    print(\"\")\n",
    "    print(\"The max difference between any one shared column in a row is: \", max_diff)\n",
    "    if(len(diff_values)!=0):\n",
    "        print(\"The average difference is: \", str(sum(diff_values)/len(diff_values)))\n",
    "    count_big_diff = len([i for i in diff_values if i > 10])\n",
    "    print(\"There are \", str(count_big_diff), \"precinct results with a difference greater than 10\")\n",
    "    print(\"\")\n",
    "    print(\"All precincts containing differences:\")\n",
    "    diff_list.sort()\n",
    "    print(diff_list)"
   ]
  },
  {
   "cell_type": "code",
   "execution_count": 42,
   "metadata": {},
   "outputs": [
    {
     "name": "stdout",
     "output_type": "stream",
     "text": [
      "\n",
      "There are  321  total rows\n",
      "0  of these rows have election result differences\n",
      "321  of these rows are the same\n",
      "\n",
      "The max difference between any one shared column in a row is:  0\n",
      "There are  0 precinct results with a difference greater than 10\n",
      "\n",
      "All precincts containing differences:\n",
      "[]\n"
     ]
    }
   ],
   "source": [
    "# Replace nan votes with 0 votes\n",
    "for col in data_columns: \n",
    "    merge_df[col + '_y'] = merge_df[col + '_y'].fillna(0)\n",
    "\n",
    "\n",
    "precinct_votes_check(merge_df,data_columns,True,'join_col',print_level=0)"
   ]
  }
 ],
 "metadata": {
  "kernelspec": {
   "display_name": "Python 3",
   "language": "python",
   "name": "python3"
  },
  "language_info": {
   "codemirror_mode": {
    "name": "ipython",
    "version": 3
   },
   "file_extension": ".py",
   "mimetype": "text/x-python",
   "name": "python",
   "nbconvert_exporter": "python",
   "pygments_lexer": "ipython3",
   "version": "3.8.3"
  },
  "toc-autonumbering": true
 },
 "nbformat": 4,
 "nbformat_minor": 4
}
